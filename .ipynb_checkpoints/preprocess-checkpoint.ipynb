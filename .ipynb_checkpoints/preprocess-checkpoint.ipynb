{
 "cells": [
  {
   "cell_type": "markdown",
   "metadata": {},
   "source": [
    "#### Data load and Set Hyperparameters"
   ]
  },
  {
   "cell_type": "code",
   "execution_count": 92,
   "metadata": {
    "scrolled": true
   },
   "outputs": [
    {
     "name": "stderr",
     "output_type": "stream",
     "text": [
      "Parsed with column specification:\n",
      "cols(\n",
      "  .default = col_integer(),\n",
      "  Name = col_character(),\n",
      "  X2 = col_double(),\n",
      "  X3 = col_double(),\n",
      "  X8 = col_double(),\n",
      "  X10 = col_character(),\n",
      "  Bioavailability = col_double(),\n",
      "  `Blood Protein Binding` = col_double(),\n",
      "  `Half Life` = col_double(),\n",
      "  `Volume of Distribution` = col_double()\n",
      ")\n",
      "See spec(...) for full column specifications.\n"
     ]
    }
   ],
   "source": [
    "options(warn=-1)\n",
    "library(prodlim)\n",
    "library(dplyr)\n",
    "library(readr)\n",
    "\n",
    "source(\"MDFIS.R\")\n",
    "source(\"OverrideFunc.R\")\n",
    "\n",
    "isAPIgroupValidationSet = FALSE\n",
    "isAPIgroupTestingSet = FALSE\n",
    "validationSetRate = 0.2\n",
    "testingSetRate = 0.2\n",
    "pIndex = 2:9\n",
    "xIndex = 11:1034\n",
    "yIndex = 1035:1038\n",
    "\n",
    "options(warn=-1)\n",
    "#fileName\n",
    "fileName = \"/data/jupyter/datasets/ADME.csv\"\n",
    "\n",
    "# create subfolder\n",
    "fileNamewithOut = tools::file_path_sans_ext(\"result\")\n",
    "dir.create(file.path(fileNamewithOut))\n",
    "\n",
    "#load data\n",
    "alldata <- read_csv(fileName)\n",
    "dataM <- data.matrix(alldata)\n",
    "\n",
    "P <- dataM[, pIndex]\n",
    "y <- dataM[, yIndex]\n",
    "X <- dataM[, xIndex]"
   ]
  },
  {
   "cell_type": "markdown",
   "metadata": {
    "collapsed": true
   },
   "source": [
    "### Property Information"
   ]
  },
  {
   "cell_type": "code",
   "execution_count": 93,
   "metadata": {},
   "outputs": [
    {
     "data": {
      "text/html": [
       "<table>\n",
       "<thead><tr><th scope=col>X2</th><th scope=col>X3</th><th scope=col>X4</th><th scope=col>X5</th><th scope=col>X6</th><th scope=col>X7</th><th scope=col>X8</th><th scope=col>X9</th></tr></thead>\n",
       "<tbody>\n",
       "\t<tr><td>520.579</td><td>184.0  </td><td>9      </td><td>7      </td><td>11     </td><td>37     </td><td>627    </td><td>2      </td></tr>\n",
       "\t<tr><td>288.431</td><td> 37.3  </td><td>0      </td><td>1      </td><td> 2     </td><td>21     </td><td>508    </td><td>1      </td></tr>\n",
       "\t<tr><td>345.790</td><td> 21.3  </td><td>6      </td><td>2      </td><td> 5     </td><td>23     </td><td>308    </td><td>2      </td></tr>\n",
       "\t<tr><td>291.819</td><td> 21.3  </td><td>6      </td><td>2      </td><td> 2     </td><td>20     </td><td>237    </td><td>2      </td></tr>\n",
       "\t<tr><td>333.874</td><td> 49.5  </td><td>6      </td><td>2      </td><td> 3     </td><td>22     </td><td>312    </td><td>2      </td></tr>\n",
       "\t<tr><td>312.435</td><td> 56.2  </td><td>1      </td><td>1      </td><td> 5     </td><td>22     </td><td>543    </td><td>1      </td></tr>\n",
       "\t<tr><td>510.045</td><td> 98.2  </td><td>7      </td><td>3      </td><td> 6     </td><td>35     </td><td>655    </td><td>2      </td></tr>\n",
       "\t<tr><td>389.411</td><td> 74.9  </td><td>1      </td><td>1      </td><td> 4     </td><td>29     </td><td>702    </td><td>1      </td></tr>\n",
       "\t<tr><td>409.900</td><td> 74.8  </td><td>6      </td><td>1      </td><td> 6     </td><td>27     </td><td>555    </td><td>2      </td></tr>\n",
       "\t<tr><td>299.659</td><td>108.0  </td><td>2      </td><td>4      </td><td> 6     </td><td>19     </td><td>426    </td><td>2      </td></tr>\n",
       "</tbody>\n",
       "</table>\n"
      ],
      "text/latex": [
       "\\begin{tabular}{llllllll}\n",
       " X2 & X3 & X4 & X5 & X6 & X7 & X8 & X9\\\\\n",
       "\\hline\n",
       "\t 520.579 & 184.0   & 9       & 7       & 11      & 37      & 627     & 2      \\\\\n",
       "\t 288.431 &  37.3   & 0       & 1       &  2      & 21      & 508     & 1      \\\\\n",
       "\t 345.790 &  21.3   & 6       & 2       &  5      & 23      & 308     & 2      \\\\\n",
       "\t 291.819 &  21.3   & 6       & 2       &  2      & 20      & 237     & 2      \\\\\n",
       "\t 333.874 &  49.5   & 6       & 2       &  3      & 22      & 312     & 2      \\\\\n",
       "\t 312.435 &  56.2   & 1       & 1       &  5      & 22      & 543     & 1      \\\\\n",
       "\t 510.045 &  98.2   & 7       & 3       &  6      & 35      & 655     & 2      \\\\\n",
       "\t 389.411 &  74.9   & 1       & 1       &  4      & 29      & 702     & 1      \\\\\n",
       "\t 409.900 &  74.8   & 6       & 1       &  6      & 27      & 555     & 2      \\\\\n",
       "\t 299.659 & 108.0   & 2       & 4       &  6      & 19      & 426     & 2      \\\\\n",
       "\\end{tabular}\n"
      ],
      "text/markdown": [
       "\n",
       "X2 | X3 | X4 | X5 | X6 | X7 | X8 | X9 | \n",
       "|---|---|---|---|---|---|---|---|---|---|\n",
       "| 520.579 | 184.0   | 9       | 7       | 11      | 37      | 627     | 2       | \n",
       "| 288.431 |  37.3   | 0       | 1       |  2      | 21      | 508     | 1       | \n",
       "| 345.790 |  21.3   | 6       | 2       |  5      | 23      | 308     | 2       | \n",
       "| 291.819 |  21.3   | 6       | 2       |  2      | 20      | 237     | 2       | \n",
       "| 333.874 |  49.5   | 6       | 2       |  3      | 22      | 312     | 2       | \n",
       "| 312.435 |  56.2   | 1       | 1       |  5      | 22      | 543     | 1       | \n",
       "| 510.045 |  98.2   | 7       | 3       |  6      | 35      | 655     | 2       | \n",
       "| 389.411 |  74.9   | 1       | 1       |  4      | 29      | 702     | 1       | \n",
       "| 409.900 |  74.8   | 6       | 1       |  6      | 27      | 555     | 2       | \n",
       "| 299.659 | 108.0   | 2       | 4       |  6      | 19      | 426     | 2       | \n",
       "\n",
       "\n"
      ],
      "text/plain": [
       "      X2      X3    X4 X5 X6 X7 X8  X9\n",
       " [1,] 520.579 184.0 9  7  11 37 627 2 \n",
       " [2,] 288.431  37.3 0  1   2 21 508 1 \n",
       " [3,] 345.790  21.3 6  2   5 23 308 2 \n",
       " [4,] 291.819  21.3 6  2   2 20 237 2 \n",
       " [5,] 333.874  49.5 6  2   3 22 312 2 \n",
       " [6,] 312.435  56.2 1  1   5 22 543 1 \n",
       " [7,] 510.045  98.2 7  3   6 35 655 2 \n",
       " [8,] 389.411  74.9 1  1   4 29 702 1 \n",
       " [9,] 409.900  74.8 6  1   6 27 555 2 \n",
       "[10,] 299.659 108.0 2  4   6 19 426 2 "
      ]
     },
     "metadata": {},
     "output_type": "display_data"
    }
   ],
   "source": [
    "P[1:10,]"
   ]
  },
  {
   "cell_type": "markdown",
   "metadata": {},
   "source": [
    "### Labels"
   ]
  },
  {
   "cell_type": "code",
   "execution_count": 94,
   "metadata": {},
   "outputs": [
    {
     "data": {
      "text/html": [
       "<table>\n",
       "<thead><tr><th scope=col>Bioavailability</th><th scope=col>Blood Protein Binding</th><th scope=col>Half Life</th><th scope=col>Volume of Distribution</th></tr></thead>\n",
       "<tbody>\n",
       "\t<tr><td> NaN   </td><td>84.0   </td><td> 7.0000</td><td> 150   </td></tr>\n",
       "\t<tr><td> NaN   </td><td>98.0   </td><td> 0.9167</td><td> NaN   </td></tr>\n",
       "\t<tr><td>70.0   </td><td>94.5   </td><td>    NaN</td><td>1950   </td></tr>\n",
       "\t<tr><td>78.5   </td><td>98.0   </td><td> 5.0000</td><td>  51   </td></tr>\n",
       "\t<tr><td> NaN   </td><td>90.0   </td><td>12.0000</td><td>1640   </td></tr>\n",
       "\t<tr><td> NaN   </td><td>93.0   </td><td>37.5000</td><td>1000   </td></tr>\n",
       "\t<tr><td> 2.0   </td><td>95.0   </td><td>27.7000</td><td> NaN   </td></tr>\n",
       "\t<tr><td> NaN   </td><td>94.0   </td><td>17.5000</td><td>  63   </td></tr>\n",
       "\t<tr><td>79.0   </td><td> NaN   </td><td> 7.4000</td><td>  56   </td></tr>\n",
       "\t<tr><td> NaN   </td><td>10.0   </td><td>    NaN</td><td> NaN   </td></tr>\n",
       "</tbody>\n",
       "</table>\n"
      ],
      "text/latex": [
       "\\begin{tabular}{llll}\n",
       " Bioavailability & Blood Protein Binding & Half Life & Volume of Distribution\\\\\n",
       "\\hline\n",
       "\t  NaN    & 84.0    &  7.0000 &  150   \\\\\n",
       "\t  NaN    & 98.0    &  0.9167 &  NaN   \\\\\n",
       "\t 70.0    & 94.5    &     NaN & 1950   \\\\\n",
       "\t 78.5    & 98.0    &  5.0000 &   51   \\\\\n",
       "\t  NaN    & 90.0    & 12.0000 & 1640   \\\\\n",
       "\t  NaN    & 93.0    & 37.5000 & 1000   \\\\\n",
       "\t  2.0    & 95.0    & 27.7000 &  NaN   \\\\\n",
       "\t  NaN    & 94.0    & 17.5000 &   63   \\\\\n",
       "\t 79.0    &  NaN    &  7.4000 &   56   \\\\\n",
       "\t  NaN    & 10.0    &     NaN &  NaN   \\\\\n",
       "\\end{tabular}\n"
      ],
      "text/markdown": [
       "\n",
       "Bioavailability | Blood Protein Binding | Half Life | Volume of Distribution | \n",
       "|---|---|---|---|---|---|---|---|---|---|\n",
       "|  NaN    | 84.0    |  7.0000 |  150    | \n",
       "|  NaN    | 98.0    |  0.9167 |  NaN    | \n",
       "| 70.0    | 94.5    |     NaN | 1950    | \n",
       "| 78.5    | 98.0    |  5.0000 |   51    | \n",
       "|  NaN    | 90.0    | 12.0000 | 1640    | \n",
       "|  NaN    | 93.0    | 37.5000 | 1000    | \n",
       "|  2.0    | 95.0    | 27.7000 |  NaN    | \n",
       "|  NaN    | 94.0    | 17.5000 |   63    | \n",
       "| 79.0    |  NaN    |  7.4000 |   56    | \n",
       "|  NaN    | 10.0    |     NaN |  NaN    | \n",
       "\n",
       "\n"
      ],
      "text/plain": [
       "      Bioavailability Blood Protein Binding Half Life Volume of Distribution\n",
       " [1,]  NaN            84.0                   7.0000    150                  \n",
       " [2,]  NaN            98.0                   0.9167    NaN                  \n",
       " [3,] 70.0            94.5                      NaN   1950                  \n",
       " [4,] 78.5            98.0                   5.0000     51                  \n",
       " [5,]  NaN            90.0                  12.0000   1640                  \n",
       " [6,]  NaN            93.0                  37.5000   1000                  \n",
       " [7,]  2.0            95.0                  27.7000    NaN                  \n",
       " [8,]  NaN            94.0                  17.5000     63                  \n",
       " [9,] 79.0             NaN                   7.4000     56                  \n",
       "[10,]  NaN            10.0                      NaN    NaN                  "
      ]
     },
     "metadata": {},
     "output_type": "display_data"
    }
   ],
   "source": [
    "y[1:10, ]"
   ]
  },
  {
   "cell_type": "markdown",
   "metadata": {},
   "source": [
    "### Fingerprints"
   ]
  },
  {
   "cell_type": "code",
   "execution_count": 95,
   "metadata": {},
   "outputs": [
    {
     "data": {
      "text/html": [
       "<table>\n",
       "<thead><tr><th scope=col>X11</th><th scope=col>X12</th><th scope=col>X13</th><th scope=col>X14</th><th scope=col>X15</th><th scope=col>X16</th><th scope=col>X17</th><th scope=col>X18</th><th scope=col>X19</th><th scope=col>X20</th><th scope=col>⋯</th><th scope=col>X1025</th><th scope=col>X1026</th><th scope=col>X1027</th><th scope=col>X1028</th><th scope=col>X1029</th><th scope=col>X1030</th><th scope=col>X1031</th><th scope=col>X1032</th><th scope=col>X1033</th><th scope=col>X1034</th></tr></thead>\n",
       "<tbody>\n",
       "\t<tr><td>0</td><td>1</td><td>0</td><td>0</td><td>0</td><td>0</td><td>0</td><td>0</td><td>0</td><td>0</td><td>⋯</td><td>0</td><td>0</td><td>0</td><td>0</td><td>0</td><td>1</td><td>0</td><td>0</td><td>1</td><td>0</td></tr>\n",
       "\t<tr><td>0</td><td>0</td><td>0</td><td>0</td><td>0</td><td>0</td><td>0</td><td>1</td><td>0</td><td>0</td><td>⋯</td><td>0</td><td>0</td><td>0</td><td>0</td><td>0</td><td>1</td><td>0</td><td>0</td><td>0</td><td>0</td></tr>\n",
       "\t<tr><td>0</td><td>1</td><td>0</td><td>0</td><td>0</td><td>0</td><td>0</td><td>0</td><td>0</td><td>0</td><td>⋯</td><td>1</td><td>0</td><td>0</td><td>0</td><td>0</td><td>0</td><td>0</td><td>0</td><td>0</td><td>0</td></tr>\n",
       "\t<tr><td>0</td><td>1</td><td>0</td><td>0</td><td>0</td><td>0</td><td>0</td><td>0</td><td>0</td><td>0</td><td>⋯</td><td>1</td><td>0</td><td>0</td><td>0</td><td>0</td><td>0</td><td>0</td><td>0</td><td>0</td><td>0</td></tr>\n",
       "\t<tr><td>0</td><td>1</td><td>0</td><td>0</td><td>0</td><td>0</td><td>0</td><td>0</td><td>0</td><td>1</td><td>⋯</td><td>1</td><td>0</td><td>0</td><td>0</td><td>0</td><td>0</td><td>0</td><td>0</td><td>0</td><td>0</td></tr>\n",
       "\t<tr><td>0</td><td>0</td><td>0</td><td>0</td><td>0</td><td>1</td><td>0</td><td>0</td><td>0</td><td>0</td><td>⋯</td><td>0</td><td>0</td><td>0</td><td>0</td><td>0</td><td>0</td><td>0</td><td>0</td><td>0</td><td>0</td></tr>\n",
       "\t<tr><td>0</td><td>0</td><td>1</td><td>0</td><td>1</td><td>0</td><td>0</td><td>0</td><td>0</td><td>1</td><td>⋯</td><td>0</td><td>0</td><td>0</td><td>0</td><td>0</td><td>0</td><td>0</td><td>0</td><td>0</td><td>0</td></tr>\n",
       "\t<tr><td>0</td><td>0</td><td>0</td><td>0</td><td>0</td><td>1</td><td>0</td><td>0</td><td>0</td><td>0</td><td>⋯</td><td>0</td><td>0</td><td>0</td><td>0</td><td>0</td><td>1</td><td>0</td><td>0</td><td>0</td><td>0</td></tr>\n",
       "\t<tr><td>0</td><td>1</td><td>0</td><td>0</td><td>0</td><td>0</td><td>0</td><td>0</td><td>1</td><td>0</td><td>⋯</td><td>0</td><td>0</td><td>0</td><td>1</td><td>0</td><td>1</td><td>0</td><td>0</td><td>0</td><td>0</td></tr>\n",
       "\t<tr><td>0</td><td>0</td><td>0</td><td>0</td><td>0</td><td>0</td><td>0</td><td>0</td><td>0</td><td>0</td><td>⋯</td><td>0</td><td>0</td><td>0</td><td>0</td><td>1</td><td>1</td><td>0</td><td>0</td><td>0</td><td>0</td></tr>\n",
       "</tbody>\n",
       "</table>\n"
      ],
      "text/latex": [
       "\\begin{tabular}{llllllllllllllllllllllllllllllllllllllllllllllllllllllllllllllllllllllllllllllllllllllllllllllllllllllllllllllllllllllllllllllllllllllllllllllllllllllllllllllllllllllllllllllllllllllllllllllllllllllllllllllllllllllllllllllllllllllllllllllllllllllllllllllllllllllllllllllllllllllllllllllllllllllllllllllllllllllllllllllllllllllllllllllllllllllllllllllllllllllllllllllllllllllllllllllllllllllllllllllllllllllllllllllllllllllllllllllllllllllllllllllllllllllllllllllllllllllllllllllllllllllllllllllllllllllllllllllllllllllllllllllllllllllllllllllllllllllllllllllllllllllllllllllllllllllllllllllllllllllllllllllllllllllllllllllllllllllllllllllllllllllllllllllllllllllllllllllllllllllllllllllllllllllllllllllllllllllllllllllllllllllllllllllllllllllllllllllllllllllllllllllllllllllllllllllllllllllllllllllllllllllllllllllllllllllllllllllllllllllllllllllllllllllllllllllllllllllllllllllllllllllllllllllllllllllllllllllllllllllllllllllllllllllllllllllllllllllllllllllllllllllllllllllllllllllllllllllllllllllllllllllllllllllllllllllll}\n",
       " X11 & X12 & X13 & X14 & X15 & X16 & X17 & X18 & X19 & X20 & ⋯ & X1025 & X1026 & X1027 & X1028 & X1029 & X1030 & X1031 & X1032 & X1033 & X1034\\\\\n",
       "\\hline\n",
       "\t 0 & 1 & 0 & 0 & 0 & 0 & 0 & 0 & 0 & 0 & ⋯ & 0 & 0 & 0 & 0 & 0 & 1 & 0 & 0 & 1 & 0\\\\\n",
       "\t 0 & 0 & 0 & 0 & 0 & 0 & 0 & 1 & 0 & 0 & ⋯ & 0 & 0 & 0 & 0 & 0 & 1 & 0 & 0 & 0 & 0\\\\\n",
       "\t 0 & 1 & 0 & 0 & 0 & 0 & 0 & 0 & 0 & 0 & ⋯ & 1 & 0 & 0 & 0 & 0 & 0 & 0 & 0 & 0 & 0\\\\\n",
       "\t 0 & 1 & 0 & 0 & 0 & 0 & 0 & 0 & 0 & 0 & ⋯ & 1 & 0 & 0 & 0 & 0 & 0 & 0 & 0 & 0 & 0\\\\\n",
       "\t 0 & 1 & 0 & 0 & 0 & 0 & 0 & 0 & 0 & 1 & ⋯ & 1 & 0 & 0 & 0 & 0 & 0 & 0 & 0 & 0 & 0\\\\\n",
       "\t 0 & 0 & 0 & 0 & 0 & 1 & 0 & 0 & 0 & 0 & ⋯ & 0 & 0 & 0 & 0 & 0 & 0 & 0 & 0 & 0 & 0\\\\\n",
       "\t 0 & 0 & 1 & 0 & 1 & 0 & 0 & 0 & 0 & 1 & ⋯ & 0 & 0 & 0 & 0 & 0 & 0 & 0 & 0 & 0 & 0\\\\\n",
       "\t 0 & 0 & 0 & 0 & 0 & 1 & 0 & 0 & 0 & 0 & ⋯ & 0 & 0 & 0 & 0 & 0 & 1 & 0 & 0 & 0 & 0\\\\\n",
       "\t 0 & 1 & 0 & 0 & 0 & 0 & 0 & 0 & 1 & 0 & ⋯ & 0 & 0 & 0 & 1 & 0 & 1 & 0 & 0 & 0 & 0\\\\\n",
       "\t 0 & 0 & 0 & 0 & 0 & 0 & 0 & 0 & 0 & 0 & ⋯ & 0 & 0 & 0 & 0 & 1 & 1 & 0 & 0 & 0 & 0\\\\\n",
       "\\end{tabular}\n"
      ],
      "text/markdown": [
       "\n",
       "X11 | X12 | X13 | X14 | X15 | X16 | X17 | X18 | X19 | X20 | ⋯ | X1025 | X1026 | X1027 | X1028 | X1029 | X1030 | X1031 | X1032 | X1033 | X1034 | \n",
       "|---|---|---|---|---|---|---|---|---|---|\n",
       "| 0 | 1 | 0 | 0 | 0 | 0 | 0 | 0 | 0 | 0 | ⋯ | 0 | 0 | 0 | 0 | 0 | 1 | 0 | 0 | 1 | 0 | \n",
       "| 0 | 0 | 0 | 0 | 0 | 0 | 0 | 1 | 0 | 0 | ⋯ | 0 | 0 | 0 | 0 | 0 | 1 | 0 | 0 | 0 | 0 | \n",
       "| 0 | 1 | 0 | 0 | 0 | 0 | 0 | 0 | 0 | 0 | ⋯ | 1 | 0 | 0 | 0 | 0 | 0 | 0 | 0 | 0 | 0 | \n",
       "| 0 | 1 | 0 | 0 | 0 | 0 | 0 | 0 | 0 | 0 | ⋯ | 1 | 0 | 0 | 0 | 0 | 0 | 0 | 0 | 0 | 0 | \n",
       "| 0 | 1 | 0 | 0 | 0 | 0 | 0 | 0 | 0 | 1 | ⋯ | 1 | 0 | 0 | 0 | 0 | 0 | 0 | 0 | 0 | 0 | \n",
       "| 0 | 0 | 0 | 0 | 0 | 1 | 0 | 0 | 0 | 0 | ⋯ | 0 | 0 | 0 | 0 | 0 | 0 | 0 | 0 | 0 | 0 | \n",
       "| 0 | 0 | 1 | 0 | 1 | 0 | 0 | 0 | 0 | 1 | ⋯ | 0 | 0 | 0 | 0 | 0 | 0 | 0 | 0 | 0 | 0 | \n",
       "| 0 | 0 | 0 | 0 | 0 | 1 | 0 | 0 | 0 | 0 | ⋯ | 0 | 0 | 0 | 0 | 0 | 1 | 0 | 0 | 0 | 0 | \n",
       "| 0 | 1 | 0 | 0 | 0 | 0 | 0 | 0 | 1 | 0 | ⋯ | 0 | 0 | 0 | 1 | 0 | 1 | 0 | 0 | 0 | 0 | \n",
       "| 0 | 0 | 0 | 0 | 0 | 0 | 0 | 0 | 0 | 0 | ⋯ | 0 | 0 | 0 | 0 | 1 | 1 | 0 | 0 | 0 | 0 | \n",
       "\n",
       "\n"
      ],
      "text/plain": [
       "      X11 X12 X13 X14 X15 X16 X17 X18 X19 X20 ⋯ X1025 X1026 X1027 X1028 X1029\n",
       " [1,] 0   1   0   0   0   0   0   0   0   0   ⋯ 0     0     0     0     0    \n",
       " [2,] 0   0   0   0   0   0   0   1   0   0   ⋯ 0     0     0     0     0    \n",
       " [3,] 0   1   0   0   0   0   0   0   0   0   ⋯ 1     0     0     0     0    \n",
       " [4,] 0   1   0   0   0   0   0   0   0   0   ⋯ 1     0     0     0     0    \n",
       " [5,] 0   1   0   0   0   0   0   0   0   1   ⋯ 1     0     0     0     0    \n",
       " [6,] 0   0   0   0   0   1   0   0   0   0   ⋯ 0     0     0     0     0    \n",
       " [7,] 0   0   1   0   1   0   0   0   0   1   ⋯ 0     0     0     0     0    \n",
       " [8,] 0   0   0   0   0   1   0   0   0   0   ⋯ 0     0     0     0     0    \n",
       " [9,] 0   1   0   0   0   0   0   0   1   0   ⋯ 0     0     0     1     0    \n",
       "[10,] 0   0   0   0   0   0   0   0   0   0   ⋯ 0     0     0     0     1    \n",
       "      X1030 X1031 X1032 X1033 X1034\n",
       " [1,] 1     0     0     1     0    \n",
       " [2,] 1     0     0     0     0    \n",
       " [3,] 0     0     0     0     0    \n",
       " [4,] 0     0     0     0     0    \n",
       " [5,] 0     0     0     0     0    \n",
       " [6,] 0     0     0     0     0    \n",
       " [7,] 0     0     0     0     0    \n",
       " [8,] 1     0     0     0     0    \n",
       " [9,] 1     0     0     0     0    \n",
       "[10,] 1     0     0     0     0    "
      ]
     },
     "metadata": {},
     "output_type": "display_data"
    }
   ],
   "source": [
    "X[1:10,]"
   ]
  },
  {
   "cell_type": "markdown",
   "metadata": {},
   "source": [
    "### normalization properties and labels"
   ]
  },
  {
   "cell_type": "code",
   "execution_count": 96,
   "metadata": {
    "collapsed": true
   },
   "outputs": [],
   "source": [
    "# normalization P\n",
    "maxsP <- apply(P, 2, maxN)\n",
    "minsP <- apply(P, 2, minN)\n",
    "rangesP <- maxsP - minsP\n",
    "meansP <- apply(P, 2, meanN)\n",
    "scaledP <- scale(P, center = minsP, scale = rangesP)\n",
    "\n",
    "# normalization y\n",
    "maxsy <- apply(y, 2, maxN)\n",
    "minsy <- apply(y, 2, minN)\n",
    "rangesy <- maxsy - minsy\n",
    "meansy <- apply(y, 2, meanN)\n",
    "scaledy <- scale(y, center = minsy, scale = rangesy)\n",
    "\n",
    "scalePFy <- cbind(scaledP, X, scaledy)"
   ]
  },
  {
   "cell_type": "markdown",
   "metadata": {},
   "source": [
    "### MD-FIS for Property Only"
   ]
  },
  {
   "cell_type": "code",
   "execution_count": 97,
   "metadata": {
    "collapsed": true
   },
   "outputs": [],
   "source": [
    "#scaledall <- scaledP"
   ]
  },
  {
   "cell_type": "markdown",
   "metadata": {},
   "source": [
    "### MD-FIS for Property + Labels"
   ]
  },
  {
   "cell_type": "code",
   "execution_count": 98,
   "metadata": {
    "collapsed": true
   },
   "outputs": [],
   "source": [
    "scaledall <- cbind(scaledP, scaledy)"
   ]
  },
  {
   "cell_type": "code",
   "execution_count": 99,
   "metadata": {},
   "outputs": [
    {
     "data": {
      "text/html": [
       "<dl class=dl-horizontal>\n",
       "\t<dt>Bioavailability</dt>\n",
       "\t\t<dd>100</dd>\n",
       "\t<dt>Blood Protein Binding</dt>\n",
       "\t\t<dd>100</dd>\n",
       "\t<dt>Half Life</dt>\n",
       "\t\t<dd>146</dd>\n",
       "\t<dt>Volume of Distribution</dt>\n",
       "\t\t<dd>1965</dd>\n",
       "</dl>\n"
      ],
      "text/latex": [
       "\\begin{description*}\n",
       "\\item[Bioavailability] 100\n",
       "\\item[Blood Protein Binding] 100\n",
       "\\item[Half Life] 146\n",
       "\\item[Volume of Distribution] 1965\n",
       "\\end{description*}\n"
      ],
      "text/markdown": [
       "Bioavailability\n",
       ":   100Blood Protein Binding\n",
       ":   100Half Life\n",
       ":   146Volume of Distribution\n",
       ":   1965\n",
       "\n"
      ],
      "text/plain": [
       "       Bioavailability  Blood Protein Binding              Half Life \n",
       "                   100                    100                    146 \n",
       "Volume of Distribution \n",
       "                  1965 "
      ]
     },
     "metadata": {},
     "output_type": "display_data"
    }
   ],
   "source": [
    "maxsy"
   ]
  },
  {
   "cell_type": "code",
   "execution_count": 100,
   "metadata": {},
   "outputs": [
    {
     "data": {
      "text/html": [
       "<dl class=dl-horizontal>\n",
       "\t<dt>Bioavailability</dt>\n",
       "\t\t<dd>0.002</dd>\n",
       "\t<dt>Blood Protein Binding</dt>\n",
       "\t\t<dd>0</dd>\n",
       "\t<dt>Half Life</dt>\n",
       "\t\t<dd>0.001111</dd>\n",
       "\t<dt>Volume of Distribution</dt>\n",
       "\t\t<dd>2.88</dd>\n",
       "</dl>\n"
      ],
      "text/latex": [
       "\\begin{description*}\n",
       "\\item[Bioavailability] 0.002\n",
       "\\item[Blood Protein Binding] 0\n",
       "\\item[Half Life] 0.001111\n",
       "\\item[Volume of Distribution] 2.88\n",
       "\\end{description*}\n"
      ],
      "text/markdown": [
       "Bioavailability\n",
       ":   0.002Blood Protein Binding\n",
       ":   0Half Life\n",
       ":   0.001111Volume of Distribution\n",
       ":   2.88\n",
       "\n"
      ],
      "text/plain": [
       "       Bioavailability  Blood Protein Binding              Half Life \n",
       "              0.002000               0.000000               0.001111 \n",
       "Volume of Distribution \n",
       "              2.880000 "
      ]
     },
     "metadata": {},
     "output_type": "display_data"
    }
   ],
   "source": [
    "minsy"
   ]
  },
  {
   "cell_type": "code",
   "execution_count": 101,
   "metadata": {},
   "outputs": [
    {
     "data": {
      "text/html": [
       "<dl class=dl-horizontal>\n",
       "\t<dt>Bioavailability</dt>\n",
       "\t\t<dd>56.2290292682927</dd>\n",
       "\t<dt>Blood Protein Binding</dt>\n",
       "\t\t<dd>71.0300715214564</dd>\n",
       "\t<dt>Half Life</dt>\n",
       "\t\t<dd>13.4233559246646</dd>\n",
       "\t<dt>Volume of Distribution</dt>\n",
       "\t\t<dd>263.956237864078</dd>\n",
       "</dl>\n"
      ],
      "text/latex": [
       "\\begin{description*}\n",
       "\\item[Bioavailability] 56.2290292682927\n",
       "\\item[Blood Protein Binding] 71.0300715214564\n",
       "\\item[Half Life] 13.4233559246646\n",
       "\\item[Volume of Distribution] 263.956237864078\n",
       "\\end{description*}\n"
      ],
      "text/markdown": [
       "Bioavailability\n",
       ":   56.2290292682927Blood Protein Binding\n",
       ":   71.0300715214564Half Life\n",
       ":   13.4233559246646Volume of Distribution\n",
       ":   263.956237864078\n",
       "\n"
      ],
      "text/plain": [
       "       Bioavailability  Blood Protein Binding              Half Life \n",
       "              56.22903               71.03007               13.42336 \n",
       "Volume of Distribution \n",
       "             263.95624 "
      ]
     },
     "metadata": {},
     "output_type": "display_data"
    }
   ],
   "source": [
    "meansy"
   ]
  },
  {
   "cell_type": "markdown",
   "metadata": {},
   "source": [
    "### The size of all datasets"
   ]
  },
  {
   "cell_type": "code",
   "execution_count": 102,
   "metadata": {
    "collapsed": true
   },
   "outputs": [],
   "source": [
    "## Get best inital dataset\n",
    "numbers = dim(scaledall)[1];\n",
    "testNum = as.integer(numbers*testingSetRate)\n",
    "validNum = as.integer(numbers*validationSetRate)\n",
    "trainNum = numbers - testNum - validNum"
   ]
  },
  {
   "cell_type": "code",
   "execution_count": 103,
   "metadata": {},
   "outputs": [
    {
     "data": {
      "text/html": [
       "1104"
      ],
      "text/latex": [
       "1104"
      ],
      "text/markdown": [
       "1104"
      ],
      "text/plain": [
       "[1] 1104"
      ]
     },
     "metadata": {},
     "output_type": "display_data"
    }
   ],
   "source": [
    "numbers"
   ]
  },
  {
   "cell_type": "code",
   "execution_count": 104,
   "metadata": {},
   "outputs": [
    {
     "data": {
      "text/html": [
       "220"
      ],
      "text/latex": [
       "220"
      ],
      "text/markdown": [
       "220"
      ],
      "text/plain": [
       "[1] 220"
      ]
     },
     "metadata": {},
     "output_type": "display_data"
    }
   ],
   "source": [
    "testNum"
   ]
  },
  {
   "cell_type": "code",
   "execution_count": 105,
   "metadata": {},
   "outputs": [
    {
     "data": {
      "text/html": [
       "220"
      ],
      "text/latex": [
       "220"
      ],
      "text/markdown": [
       "220"
      ],
      "text/plain": [
       "[1] 220"
      ]
     },
     "metadata": {},
     "output_type": "display_data"
    }
   ],
   "source": [
    "validNum"
   ]
  },
  {
   "cell_type": "code",
   "execution_count": 106,
   "metadata": {},
   "outputs": [
    {
     "data": {
      "text/html": [
       "664"
      ],
      "text/latex": [
       "664"
      ],
      "text/markdown": [
       "664"
      ],
      "text/plain": [
       "[1] 664"
      ]
     },
     "metadata": {},
     "output_type": "display_data"
    }
   ],
   "source": [
    "trainNum"
   ]
  },
  {
   "cell_type": "markdown",
   "metadata": {},
   "source": [
    "### MD-FIS of validation set"
   ]
  },
  {
   "cell_type": "code",
   "execution_count": 107,
   "metadata": {
    "collapsed": true
   },
   "outputs": [],
   "source": [
    "allIndexes <- NULL\n",
    "allsumdiss <- NULL\n",
    "\n",
    "##Generate 10000 intial data set and get best one\n",
    "for (i in 1:10000) {\n",
    "  ##A random sample of 5 data points\n",
    "  set.seed(i)\n",
    "  initalIndexes <- sample(numbers, 5)\n",
    "  \n",
    "  TrainningSet <- scaledall[-initalIndexes, ]\n",
    "  initalTestSet <- scaledall[initalIndexes, ]\n",
    "  \n",
    "  allIndexes <- rbind(allIndexes, initalIndexes)\n",
    "  \n",
    "  diss <- proxy::dist(initalTestSet, TrainningSet)\n",
    "  sumdiss <- sum(diss)\n",
    "  allsumdiss <- c(allsumdiss, sumdiss)\n",
    "  \n",
    "}\n",
    "\n",
    "bestInitalIndex <- allIndexes[which.min(allsumdiss), ]\n",
    "bestDistance <- min(allsumdiss)\n",
    "\n",
    "#Begin compute remaining testset\n",
    "RemainingSetV <- scaledall[-bestInitalIndex, ]\n",
    "initalSetV <- scaledall[bestInitalIndex, ]\n",
    "\n",
    "###for PFy\n",
    "RemainingPFy <- scalePFy[-bestInitalIndex, ]\n",
    "initalPFy <- scalePFy[bestInitalIndex, ]\n",
    "\n",
    "#MD-FIS\n",
    "validaIndex <- MDFIS(initalSetV, RemainingSetV, n = (validNum - 5), obj = minDiss, alpha = 3, isAPIgroup = isAPIgroupValidationSet)\n",
    "SelectedSetV <- RemainingSetV[validaIndex, ]\n",
    "validationSet <- rbind(initalSetV, SelectedSetV)\n",
    "RemainSetForTestingSelection <- RemainingSetV[-validaIndex, ]\n",
    "\n",
    "###for PFy\n",
    "SelectedPFy <- RemainingPFy[validaIndex, ]\n",
    "validationPFy <- rbind(initalPFy, SelectedPFy)\n",
    "RemainSetForTestingSelectionPFy <- RemainingPFy[-validaIndex, ]\n",
    "numbers <- dim(RemainSetForTestingSelection)[1];"
   ]
  },
  {
   "cell_type": "code",
   "execution_count": 108,
   "metadata": {},
   "outputs": [
    {
     "data": {
      "text/html": [
       "<table>\n",
       "<thead><tr><th scope=col>X2</th><th scope=col>X3</th><th scope=col>X4</th><th scope=col>X5</th><th scope=col>X6</th><th scope=col>X7</th><th scope=col>X8</th><th scope=col>X9</th><th scope=col>X11</th><th scope=col>X12</th><th scope=col>⋯</th><th scope=col>X1029</th><th scope=col>X1030</th><th scope=col>X1031</th><th scope=col>X1032</th><th scope=col>X1033</th><th scope=col>X1034</th><th scope=col>Bioavailability</th><th scope=col>Blood Protein Binding</th><th scope=col>Half Life</th><th scope=col>Volume of Distribution</th></tr></thead>\n",
       "<tbody>\n",
       "\t<tr><td>0.03623487 </td><td>0.01475248 </td><td>0.00000000 </td><td>0.02325581 </td><td>0.006369427</td><td>0.03368421 </td><td>0.017475728</td><td>0.05263158 </td><td>0          </td><td>0          </td><td>⋯          </td><td>0          </td><td>0          </td><td>0          </td><td>0          </td><td>0          </td><td>0          </td><td>NaN        </td><td>NaN        </td><td>0.008896568</td><td>NaN        </td></tr>\n",
       "\t<tr><td>0.02647938 </td><td>0.02947195 </td><td>0.02538071 </td><td>0.04651163 </td><td>0.038216561</td><td>0.02526316 </td><td>0.008058252</td><td>0.05263158 </td><td>0          </td><td>1          </td><td>⋯          </td><td>0          </td><td>0          </td><td>0          </td><td>0          </td><td>0          </td><td>0          </td><td>NaN        </td><td>NaN        </td><td>0.054787328</td><td>NaN        </td></tr>\n",
       "\t<tr><td>0.07210810 </td><td>0.03366337 </td><td>0.03553299 </td><td>0.00000000 </td><td>0.038216561</td><td>0.07157895 </td><td>0.035679612</td><td>0.10526316 </td><td>0          </td><td>0          </td><td>⋯          </td><td>0          </td><td>1          </td><td>0          </td><td>0          </td><td>0          </td><td>0          </td><td>NaN        </td><td>NaN        </td><td>0.136979734</td><td>NaN        </td></tr>\n",
       "\t<tr><td>0.03402139 </td><td>0.02399340 </td><td>0.02538071 </td><td>0.05813953 </td><td>0.025477707</td><td>0.03578947 </td><td>0.011019417</td><td>0.05263158 </td><td>0          </td><td>1          </td><td>⋯          </td><td>0          </td><td>0          </td><td>0          </td><td>0          </td><td>0          </td><td>0          </td><td>NaN        </td><td>NaN        </td><td>0.024992581</td><td>NaN        </td></tr>\n",
       "\t<tr><td>0.05366685 </td><td>0.02765677 </td><td>0.08629442 </td><td>0.02325581 </td><td>0.031847134</td><td>0.06105263 </td><td>0.024951456</td><td>0.00000000 </td><td>0          </td><td>1          </td><td>⋯          </td><td>0          </td><td>1          </td><td>0          </td><td>0          </td><td>0          </td><td>0          </td><td>NaN        </td><td>NaN        </td><td>0.001590348</td><td>NaN        </td></tr>\n",
       "</tbody>\n",
       "</table>\n"
      ],
      "text/latex": [
       "\\begin{tabular}{llllllllllllllllllllllllllllllllllllllllllllllllllllllllllllllllllllllllllllllllllllllllllllllllllllllllllllllllllllllllllllllllllllllllllllllllllllllllllllllllllllllllllllllllllllllllllllllllllllllllllllllllllllllllllllllllllllllllllllllllllllllllllllllllllllllllllllllllllllllllllllllllllllllllllllllllllllllllllllllllllllllllllllllllllllllllllllllllllllllllllllllllllllllllllllllllllllllllllllllllllllllllllllllllllllllllllllllllllllllllllllllllllllllllllllllllllllllllllllllllllllllllllllllllllllllllllllllllllllllllllllllllllllllllllllllllllllllllllllllllllllllllllllllllllllllllllllllllllllllllllllllllllllllllllllllllllllllllllllllllllllllllllllllllllllllllllllllllllllllllllllllllllllllllllllllllllllllllllllllllllllllllllllllllllllllllllllllllllllllllllllllllllllllllllllllllllllllllllllllllllllllllllllllllllllllllllllllllllllllllllllllllllllllllllllllllllllllllllllllllllllllllllllllllllllllllllllllllllllllllllllllllllllllllllllllllllllllllllllllllllllllllllllllllllllllllllllllllllllllllllllllllllllllllllllllllllllllllllll}\n",
       " X2 & X3 & X4 & X5 & X6 & X7 & X8 & X9 & X11 & X12 & ⋯ & X1029 & X1030 & X1031 & X1032 & X1033 & X1034 & Bioavailability & Blood Protein Binding & Half Life & Volume of Distribution\\\\\n",
       "\\hline\n",
       "\t 0.03623487  & 0.01475248  & 0.00000000  & 0.02325581  & 0.006369427 & 0.03368421  & 0.017475728 & 0.05263158  & 0           & 0           & ⋯           & 0           & 0           & 0           & 0           & 0           & 0           & NaN         & NaN         & 0.008896568 & NaN        \\\\\n",
       "\t 0.02647938  & 0.02947195  & 0.02538071  & 0.04651163  & 0.038216561 & 0.02526316  & 0.008058252 & 0.05263158  & 0           & 1           & ⋯           & 0           & 0           & 0           & 0           & 0           & 0           & NaN         & NaN         & 0.054787328 & NaN        \\\\\n",
       "\t 0.07210810  & 0.03366337  & 0.03553299  & 0.00000000  & 0.038216561 & 0.07157895  & 0.035679612 & 0.10526316  & 0           & 0           & ⋯           & 0           & 1           & 0           & 0           & 0           & 0           & NaN         & NaN         & 0.136979734 & NaN        \\\\\n",
       "\t 0.03402139  & 0.02399340  & 0.02538071  & 0.05813953  & 0.025477707 & 0.03578947  & 0.011019417 & 0.05263158  & 0           & 1           & ⋯           & 0           & 0           & 0           & 0           & 0           & 0           & NaN         & NaN         & 0.024992581 & NaN        \\\\\n",
       "\t 0.05366685  & 0.02765677  & 0.08629442  & 0.02325581  & 0.031847134 & 0.06105263  & 0.024951456 & 0.00000000  & 0           & 1           & ⋯           & 0           & 1           & 0           & 0           & 0           & 0           & NaN         & NaN         & 0.001590348 & NaN        \\\\\n",
       "\\end{tabular}\n"
      ],
      "text/markdown": [
       "\n",
       "X2 | X3 | X4 | X5 | X6 | X7 | X8 | X9 | X11 | X12 | ⋯ | X1029 | X1030 | X1031 | X1032 | X1033 | X1034 | Bioavailability | Blood Protein Binding | Half Life | Volume of Distribution | \n",
       "|---|---|---|---|---|\n",
       "| 0.03623487  | 0.01475248  | 0.00000000  | 0.02325581  | 0.006369427 | 0.03368421  | 0.017475728 | 0.05263158  | 0           | 0           | ⋯           | 0           | 0           | 0           | 0           | 0           | 0           | NaN         | NaN         | 0.008896568 | NaN         | \n",
       "| 0.02647938  | 0.02947195  | 0.02538071  | 0.04651163  | 0.038216561 | 0.02526316  | 0.008058252 | 0.05263158  | 0           | 1           | ⋯           | 0           | 0           | 0           | 0           | 0           | 0           | NaN         | NaN         | 0.054787328 | NaN         | \n",
       "| 0.07210810  | 0.03366337  | 0.03553299  | 0.00000000  | 0.038216561 | 0.07157895  | 0.035679612 | 0.10526316  | 0           | 0           | ⋯           | 0           | 1           | 0           | 0           | 0           | 0           | NaN         | NaN         | 0.136979734 | NaN         | \n",
       "| 0.03402139  | 0.02399340  | 0.02538071  | 0.05813953  | 0.025477707 | 0.03578947  | 0.011019417 | 0.05263158  | 0           | 1           | ⋯           | 0           | 0           | 0           | 0           | 0           | 0           | NaN         | NaN         | 0.024992581 | NaN         | \n",
       "| 0.05366685  | 0.02765677  | 0.08629442  | 0.02325581  | 0.031847134 | 0.06105263  | 0.024951456 | 0.00000000  | 0           | 1           | ⋯           | 0           | 1           | 0           | 0           | 0           | 0           | NaN         | NaN         | 0.001590348 | NaN         | \n",
       "\n",
       "\n"
      ],
      "text/plain": [
       "     X2         X3         X4         X5         X6          X7        \n",
       "[1,] 0.03623487 0.01475248 0.00000000 0.02325581 0.006369427 0.03368421\n",
       "[2,] 0.02647938 0.02947195 0.02538071 0.04651163 0.038216561 0.02526316\n",
       "[3,] 0.07210810 0.03366337 0.03553299 0.00000000 0.038216561 0.07157895\n",
       "[4,] 0.03402139 0.02399340 0.02538071 0.05813953 0.025477707 0.03578947\n",
       "[5,] 0.05366685 0.02765677 0.08629442 0.02325581 0.031847134 0.06105263\n",
       "     X8          X9         X11 X12 ⋯ X1029 X1030 X1031 X1032 X1033 X1034\n",
       "[1,] 0.017475728 0.05263158 0   0   ⋯ 0     0     0     0     0     0    \n",
       "[2,] 0.008058252 0.05263158 0   1   ⋯ 0     0     0     0     0     0    \n",
       "[3,] 0.035679612 0.10526316 0   0   ⋯ 0     1     0     0     0     0    \n",
       "[4,] 0.011019417 0.05263158 0   1   ⋯ 0     0     0     0     0     0    \n",
       "[5,] 0.024951456 0.00000000 0   1   ⋯ 0     1     0     0     0     0    \n",
       "     Bioavailability Blood Protein Binding Half Life   Volume of Distribution\n",
       "[1,] NaN             NaN                   0.008896568 NaN                   \n",
       "[2,] NaN             NaN                   0.054787328 NaN                   \n",
       "[3,] NaN             NaN                   0.136979734 NaN                   \n",
       "[4,] NaN             NaN                   0.024992581 NaN                   \n",
       "[5,] NaN             NaN                   0.001590348 NaN                   "
      ]
     },
     "metadata": {},
     "output_type": "display_data"
    }
   ],
   "source": [
    "initalPFy"
   ]
  },
  {
   "cell_type": "code",
   "execution_count": 109,
   "metadata": {},
   "outputs": [
    {
     "data": {
      "text/html": [
       "<table>\n",
       "<thead><tr><th scope=col>X2</th><th scope=col>X3</th><th scope=col>X4</th><th scope=col>X5</th><th scope=col>X6</th><th scope=col>X7</th><th scope=col>X8</th><th scope=col>X9</th><th scope=col>X11</th><th scope=col>X12</th><th scope=col>⋯</th><th scope=col>X1029</th><th scope=col>X1030</th><th scope=col>X1031</th><th scope=col>X1032</th><th scope=col>X1033</th><th scope=col>X1034</th><th scope=col>Bioavailability</th><th scope=col>Blood Protein Binding</th><th scope=col>Half Life</th><th scope=col>Volume of Distribution</th></tr></thead>\n",
       "<tbody>\n",
       "\t<tr><td>1.00000000 </td><td>1.000000000</td><td>0.79187817 </td><td>0.30232558 </td><td>1.000000000</td><td>1.00000000 </td><td>1.00000000 </td><td>1.00000000 </td><td>0          </td><td>0          </td><td>⋯          </td><td>0          </td><td>1          </td><td>0          </td><td>0          </td><td>0          </td><td>0          </td><td>0.6599932  </td><td>0.90       </td><td>        NaN</td><td>        NaN</td></tr>\n",
       "\t<tr><td>0.76729957 </td><td>0.775577558</td><td>0.95431472 </td><td>1.00000000 </td><td>0.579617834</td><td>0.85263158 </td><td>0.63106796 </td><td>0.05263158 </td><td>0          </td><td>1          </td><td>⋯          </td><td>0          </td><td>1          </td><td>0          </td><td>0          </td><td>0          </td><td>0          </td><td>      NaN  </td><td>0.10       </td><td>0.009239036</td><td>        NaN</td></tr>\n",
       "\t<tr><td>0.49272506 </td><td>0.498349835</td><td>0.67005076 </td><td>0.62790698 </td><td>0.350318471</td><td>0.55789474 </td><td>0.42524272 </td><td>0.00000000 </td><td>0          </td><td>1          </td><td>⋯          </td><td>0          </td><td>0          </td><td>0          </td><td>0          </td><td>0          </td><td>0          </td><td>      NaN  </td><td>0.98       </td><td>0.089034164</td><td>        NaN</td></tr>\n",
       "\t<tr><td>0.17204841 </td><td>0.273597360</td><td>0.03045685 </td><td>0.13953488 </td><td>0.267515924</td><td>0.14526316 </td><td>0.01626214 </td><td>0.94736842 </td><td>0          </td><td>0          </td><td>⋯          </td><td>0          </td><td>0          </td><td>0          </td><td>0          </td><td>0          </td><td>1          </td><td>      NaN  </td><td> NaN       </td><td>0.010129454</td><td>        NaN</td></tr>\n",
       "\t<tr><td>0.17651166 </td><td>0.157095710</td><td>0.13197970 </td><td>0.10465116 </td><td>0.133757962</td><td>0.19368421 </td><td>0.15631068 </td><td>0.10526316 </td><td>1          </td><td>1          </td><td>⋯          </td><td>1          </td><td>1          </td><td>0          </td><td>0          </td><td>0          </td><td>0          </td><td>      NaN  </td><td> NaN       </td><td>0.986301266</td><td>        NaN</td></tr>\n",
       "\t<tr><td>0.80325002 </td><td>0.828382838</td><td>1.00000000 </td><td>0.91860465 </td><td>0.585987261</td><td>0.89473684 </td><td>0.74271845 </td><td>0.00000000 </td><td>0          </td><td>1          </td><td>⋯          </td><td>0          </td><td>1          </td><td>0          </td><td>0          </td><td>0          </td><td>0          </td><td>      NaN  </td><td>0.99       </td><td>0.171226570</td><td>        NaN</td></tr>\n",
       "\t<tr><td>0.28538784 </td><td>0.297689769</td><td>0.34010152 </td><td>0.32558140 </td><td>0.222929936</td><td>0.32421053 </td><td>0.24029126 </td><td>0.00000000 </td><td>0          </td><td>1          </td><td>⋯          </td><td>0          </td><td>1          </td><td>0          </td><td>0          </td><td>0          </td><td>0          </td><td>      NaN  </td><td> NaN       </td><td>0.002846522</td><td>0.004648034</td></tr>\n",
       "\t<tr><td>0.03045007 </td><td>0.025676568</td><td>0.01015228 </td><td>0.02325581 </td><td>0.025477707</td><td>0.03368421 </td><td>0.01179612 </td><td>0.00000000 </td><td>0          </td><td>0          </td><td>⋯          </td><td>0          </td><td>0          </td><td>0          </td><td>0          </td><td>0          </td><td>0          </td><td>      NaN  </td><td>0.87       </td><td>0.657531641</td><td>        NaN</td></tr>\n",
       "\t<tr><td>0.28507860 </td><td>0.328382838</td><td>0.16243655 </td><td>0.18604651 </td><td>0.356687898</td><td>0.28421053 </td><td>0.13543689 </td><td>0.42105263 </td><td>0          </td><td>0          </td><td>⋯          </td><td>0          </td><td>1          </td><td>0          </td><td>0          </td><td>0          </td><td>0          </td><td>      NaN  </td><td>0.00       </td><td>0.013691125</td><td>0.004902860</td></tr>\n",
       "\t<tr><td>0.02610138 </td><td>0.008580858</td><td>0.00000000 </td><td>0.02325581 </td><td>0.006369427</td><td>0.02736842 </td><td>0.01165049 </td><td>0.05263158 </td><td>0          </td><td>0          </td><td>⋯          </td><td>0          </td><td>1          </td><td>0          </td><td>0          </td><td>0          </td><td>0          </td><td>1.0000000  </td><td>0.45       </td><td>0.547941766</td><td>0.304323895</td></tr>\n",
       "</tbody>\n",
       "</table>\n"
      ],
      "text/latex": [
       "\\begin{tabular}{llllllllllllllllllllllllllllllllllllllllllllllllllllllllllllllllllllllllllllllllllllllllllllllllllllllllllllllllllllllllllllllllllllllllllllllllllllllllllllllllllllllllllllllllllllllllllllllllllllllllllllllllllllllllllllllllllllllllllllllllllllllllllllllllllllllllllllllllllllllllllllllllllllllllllllllllllllllllllllllllllllllllllllllllllllllllllllllllllllllllllllllllllllllllllllllllllllllllllllllllllllllllllllllllllllllllllllllllllllllllllllllllllllllllllllllllllllllllllllllllllllllllllllllllllllllllllllllllllllllllllllllllllllllllllllllllllllllllllllllllllllllllllllllllllllllllllllllllllllllllllllllllllllllllllllllllllllllllllllllllllllllllllllllllllllllllllllllllllllllllllllllllllllllllllllllllllllllllllllllllllllllllllllllllllllllllllllllllllllllllllllllllllllllllllllllllllllllllllllllllllllllllllllllllllllllllllllllllllllllllllllllllllllllllllllllllllllllllllllllllllllllllllllllllllllllllllllllllllllllllllllllllllllllllllllllllllllllllllllllllllllllllllllllllllllllllllllllllllllllllllllllllllllllllllllllllllllllllllll}\n",
       " X2 & X3 & X4 & X5 & X6 & X7 & X8 & X9 & X11 & X12 & ⋯ & X1029 & X1030 & X1031 & X1032 & X1033 & X1034 & Bioavailability & Blood Protein Binding & Half Life & Volume of Distribution\\\\\n",
       "\\hline\n",
       "\t 1.00000000  & 1.000000000 & 0.79187817  & 0.30232558  & 1.000000000 & 1.00000000  & 1.00000000  & 1.00000000  & 0           & 0           & ⋯           & 0           & 1           & 0           & 0           & 0           & 0           & 0.6599932   & 0.90        &         NaN &         NaN\\\\\n",
       "\t 0.76729957  & 0.775577558 & 0.95431472  & 1.00000000  & 0.579617834 & 0.85263158  & 0.63106796  & 0.05263158  & 0           & 1           & ⋯           & 0           & 1           & 0           & 0           & 0           & 0           &       NaN   & 0.10        & 0.009239036 &         NaN\\\\\n",
       "\t 0.49272506  & 0.498349835 & 0.67005076  & 0.62790698  & 0.350318471 & 0.55789474  & 0.42524272  & 0.00000000  & 0           & 1           & ⋯           & 0           & 0           & 0           & 0           & 0           & 0           &       NaN   & 0.98        & 0.089034164 &         NaN\\\\\n",
       "\t 0.17204841  & 0.273597360 & 0.03045685  & 0.13953488  & 0.267515924 & 0.14526316  & 0.01626214  & 0.94736842  & 0           & 0           & ⋯           & 0           & 0           & 0           & 0           & 0           & 1           &       NaN   &  NaN        & 0.010129454 &         NaN\\\\\n",
       "\t 0.17651166  & 0.157095710 & 0.13197970  & 0.10465116  & 0.133757962 & 0.19368421  & 0.15631068  & 0.10526316  & 1           & 1           & ⋯           & 1           & 1           & 0           & 0           & 0           & 0           &       NaN   &  NaN        & 0.986301266 &         NaN\\\\\n",
       "\t 0.80325002  & 0.828382838 & 1.00000000  & 0.91860465  & 0.585987261 & 0.89473684  & 0.74271845  & 0.00000000  & 0           & 1           & ⋯           & 0           & 1           & 0           & 0           & 0           & 0           &       NaN   & 0.99        & 0.171226570 &         NaN\\\\\n",
       "\t 0.28538784  & 0.297689769 & 0.34010152  & 0.32558140  & 0.222929936 & 0.32421053  & 0.24029126  & 0.00000000  & 0           & 1           & ⋯           & 0           & 1           & 0           & 0           & 0           & 0           &       NaN   &  NaN        & 0.002846522 & 0.004648034\\\\\n",
       "\t 0.03045007  & 0.025676568 & 0.01015228  & 0.02325581  & 0.025477707 & 0.03368421  & 0.01179612  & 0.00000000  & 0           & 0           & ⋯           & 0           & 0           & 0           & 0           & 0           & 0           &       NaN   & 0.87        & 0.657531641 &         NaN\\\\\n",
       "\t 0.28507860  & 0.328382838 & 0.16243655  & 0.18604651  & 0.356687898 & 0.28421053  & 0.13543689  & 0.42105263  & 0           & 0           & ⋯           & 0           & 1           & 0           & 0           & 0           & 0           &       NaN   & 0.00        & 0.013691125 & 0.004902860\\\\\n",
       "\t 0.02610138  & 0.008580858 & 0.00000000  & 0.02325581  & 0.006369427 & 0.02736842  & 0.01165049  & 0.05263158  & 0           & 0           & ⋯           & 0           & 1           & 0           & 0           & 0           & 0           & 1.0000000   & 0.45        & 0.547941766 & 0.304323895\\\\\n",
       "\\end{tabular}\n"
      ],
      "text/markdown": [
       "\n",
       "X2 | X3 | X4 | X5 | X6 | X7 | X8 | X9 | X11 | X12 | ⋯ | X1029 | X1030 | X1031 | X1032 | X1033 | X1034 | Bioavailability | Blood Protein Binding | Half Life | Volume of Distribution | \n",
       "|---|---|---|---|---|---|---|---|---|---|\n",
       "| 1.00000000  | 1.000000000 | 0.79187817  | 0.30232558  | 1.000000000 | 1.00000000  | 1.00000000  | 1.00000000  | 0           | 0           | ⋯           | 0           | 1           | 0           | 0           | 0           | 0           | 0.6599932   | 0.90        |         NaN |         NaN | \n",
       "| 0.76729957  | 0.775577558 | 0.95431472  | 1.00000000  | 0.579617834 | 0.85263158  | 0.63106796  | 0.05263158  | 0           | 1           | ⋯           | 0           | 1           | 0           | 0           | 0           | 0           |       NaN   | 0.10        | 0.009239036 |         NaN | \n",
       "| 0.49272506  | 0.498349835 | 0.67005076  | 0.62790698  | 0.350318471 | 0.55789474  | 0.42524272  | 0.00000000  | 0           | 1           | ⋯           | 0           | 0           | 0           | 0           | 0           | 0           |       NaN   | 0.98        | 0.089034164 |         NaN | \n",
       "| 0.17204841  | 0.273597360 | 0.03045685  | 0.13953488  | 0.267515924 | 0.14526316  | 0.01626214  | 0.94736842  | 0           | 0           | ⋯           | 0           | 0           | 0           | 0           | 0           | 1           |       NaN   |  NaN        | 0.010129454 |         NaN | \n",
       "| 0.17651166  | 0.157095710 | 0.13197970  | 0.10465116  | 0.133757962 | 0.19368421  | 0.15631068  | 0.10526316  | 1           | 1           | ⋯           | 1           | 1           | 0           | 0           | 0           | 0           |       NaN   |  NaN        | 0.986301266 |         NaN | \n",
       "| 0.80325002  | 0.828382838 | 1.00000000  | 0.91860465  | 0.585987261 | 0.89473684  | 0.74271845  | 0.00000000  | 0           | 1           | ⋯           | 0           | 1           | 0           | 0           | 0           | 0           |       NaN   | 0.99        | 0.171226570 |         NaN | \n",
       "| 0.28538784  | 0.297689769 | 0.34010152  | 0.32558140  | 0.222929936 | 0.32421053  | 0.24029126  | 0.00000000  | 0           | 1           | ⋯           | 0           | 1           | 0           | 0           | 0           | 0           |       NaN   |  NaN        | 0.002846522 | 0.004648034 | \n",
       "| 0.03045007  | 0.025676568 | 0.01015228  | 0.02325581  | 0.025477707 | 0.03368421  | 0.01179612  | 0.00000000  | 0           | 0           | ⋯           | 0           | 0           | 0           | 0           | 0           | 0           |       NaN   | 0.87        | 0.657531641 |         NaN | \n",
       "| 0.28507860  | 0.328382838 | 0.16243655  | 0.18604651  | 0.356687898 | 0.28421053  | 0.13543689  | 0.42105263  | 0           | 0           | ⋯           | 0           | 1           | 0           | 0           | 0           | 0           |       NaN   | 0.00        | 0.013691125 | 0.004902860 | \n",
       "| 0.02610138  | 0.008580858 | 0.00000000  | 0.02325581  | 0.006369427 | 0.02736842  | 0.01165049  | 0.05263158  | 0           | 0           | ⋯           | 0           | 1           | 0           | 0           | 0           | 0           | 1.0000000   | 0.45        | 0.547941766 | 0.304323895 | \n",
       "\n",
       "\n"
      ],
      "text/plain": [
       "      X2         X3          X4         X5         X6          X7        \n",
       " [1,] 1.00000000 1.000000000 0.79187817 0.30232558 1.000000000 1.00000000\n",
       " [2,] 0.76729957 0.775577558 0.95431472 1.00000000 0.579617834 0.85263158\n",
       " [3,] 0.49272506 0.498349835 0.67005076 0.62790698 0.350318471 0.55789474\n",
       " [4,] 0.17204841 0.273597360 0.03045685 0.13953488 0.267515924 0.14526316\n",
       " [5,] 0.17651166 0.157095710 0.13197970 0.10465116 0.133757962 0.19368421\n",
       " [6,] 0.80325002 0.828382838 1.00000000 0.91860465 0.585987261 0.89473684\n",
       " [7,] 0.28538784 0.297689769 0.34010152 0.32558140 0.222929936 0.32421053\n",
       " [8,] 0.03045007 0.025676568 0.01015228 0.02325581 0.025477707 0.03368421\n",
       " [9,] 0.28507860 0.328382838 0.16243655 0.18604651 0.356687898 0.28421053\n",
       "[10,] 0.02610138 0.008580858 0.00000000 0.02325581 0.006369427 0.02736842\n",
       "      X8         X9         X11 X12 ⋯ X1029 X1030 X1031 X1032 X1033 X1034\n",
       " [1,] 1.00000000 1.00000000 0   0   ⋯ 0     1     0     0     0     0    \n",
       " [2,] 0.63106796 0.05263158 0   1   ⋯ 0     1     0     0     0     0    \n",
       " [3,] 0.42524272 0.00000000 0   1   ⋯ 0     0     0     0     0     0    \n",
       " [4,] 0.01626214 0.94736842 0   0   ⋯ 0     0     0     0     0     1    \n",
       " [5,] 0.15631068 0.10526316 1   1   ⋯ 1     1     0     0     0     0    \n",
       " [6,] 0.74271845 0.00000000 0   1   ⋯ 0     1     0     0     0     0    \n",
       " [7,] 0.24029126 0.00000000 0   1   ⋯ 0     1     0     0     0     0    \n",
       " [8,] 0.01179612 0.00000000 0   0   ⋯ 0     0     0     0     0     0    \n",
       " [9,] 0.13543689 0.42105263 0   0   ⋯ 0     1     0     0     0     0    \n",
       "[10,] 0.01165049 0.05263158 0   0   ⋯ 0     1     0     0     0     0    \n",
       "      Bioavailability Blood Protein Binding Half Life   Volume of Distribution\n",
       " [1,] 0.6599932       0.90                          NaN         NaN           \n",
       " [2,]       NaN       0.10                  0.009239036         NaN           \n",
       " [3,]       NaN       0.98                  0.089034164         NaN           \n",
       " [4,]       NaN        NaN                  0.010129454         NaN           \n",
       " [5,]       NaN        NaN                  0.986301266         NaN           \n",
       " [6,]       NaN       0.99                  0.171226570         NaN           \n",
       " [7,]       NaN        NaN                  0.002846522 0.004648034           \n",
       " [8,]       NaN       0.87                  0.657531641         NaN           \n",
       " [9,]       NaN       0.00                  0.013691125 0.004902860           \n",
       "[10,] 1.0000000       0.45                  0.547941766 0.304323895           "
      ]
     },
     "metadata": {},
     "output_type": "display_data"
    }
   ],
   "source": [
    "SelectedPFy[1:10,]"
   ]
  },
  {
   "cell_type": "code",
   "execution_count": 110,
   "metadata": {},
   "outputs": [
    {
     "data": {
      "text/html": [
       "<table>\n",
       "<thead><tr><th scope=col>X2</th><th scope=col>X3</th><th scope=col>X4</th><th scope=col>X5</th><th scope=col>X6</th><th scope=col>X7</th><th scope=col>X8</th><th scope=col>X9</th><th scope=col>X11</th><th scope=col>X12</th><th scope=col>⋯</th><th scope=col>X1029</th><th scope=col>X1030</th><th scope=col>X1031</th><th scope=col>X1032</th><th scope=col>X1033</th><th scope=col>X1034</th><th scope=col>Bioavailability</th><th scope=col>Blood Protein Binding</th><th scope=col>Half Life</th><th scope=col>Volume of Distribution</th></tr></thead>\n",
       "<tbody>\n",
       "\t<tr><td>0.03623487 </td><td>0.01475248 </td><td>0.00000000 </td><td>0.02325581 </td><td>0.006369427</td><td>0.03368421 </td><td>0.017475728</td><td>0.05263158 </td><td>0          </td><td>0          </td><td>⋯          </td><td>0          </td><td>0          </td><td>0          </td><td>0          </td><td>0          </td><td>0          </td><td>      NaN  </td><td> NaN       </td><td>0.008896568</td><td>NaN        </td></tr>\n",
       "\t<tr><td>0.02647938 </td><td>0.02947195 </td><td>0.02538071 </td><td>0.04651163 </td><td>0.038216561</td><td>0.02526316 </td><td>0.008058252</td><td>0.05263158 </td><td>0          </td><td>1          </td><td>⋯          </td><td>0          </td><td>0          </td><td>0          </td><td>0          </td><td>0          </td><td>0          </td><td>      NaN  </td><td> NaN       </td><td>0.054787328</td><td>NaN        </td></tr>\n",
       "\t<tr><td>0.07210810 </td><td>0.03366337 </td><td>0.03553299 </td><td>0.00000000 </td><td>0.038216561</td><td>0.07157895 </td><td>0.035679612</td><td>0.10526316 </td><td>0          </td><td>0          </td><td>⋯          </td><td>0          </td><td>1          </td><td>0          </td><td>0          </td><td>0          </td><td>0          </td><td>      NaN  </td><td> NaN       </td><td>0.136979734</td><td>NaN        </td></tr>\n",
       "\t<tr><td>0.03402139 </td><td>0.02399340 </td><td>0.02538071 </td><td>0.05813953 </td><td>0.025477707</td><td>0.03578947 </td><td>0.011019417</td><td>0.05263158 </td><td>0          </td><td>1          </td><td>⋯          </td><td>0          </td><td>0          </td><td>0          </td><td>0          </td><td>0          </td><td>0          </td><td>      NaN  </td><td> NaN       </td><td>0.024992581</td><td>NaN        </td></tr>\n",
       "\t<tr><td>0.05366685 </td><td>0.02765677 </td><td>0.08629442 </td><td>0.02325581 </td><td>0.031847134</td><td>0.06105263 </td><td>0.024951456</td><td>0.00000000 </td><td>0          </td><td>1          </td><td>⋯          </td><td>0          </td><td>1          </td><td>0          </td><td>0          </td><td>0          </td><td>0          </td><td>      NaN  </td><td> NaN       </td><td>0.001590348</td><td>NaN        </td></tr>\n",
       "\t<tr><td>1.00000000 </td><td>1.00000000 </td><td>0.79187817 </td><td>0.30232558 </td><td>1.000000000</td><td>1.00000000 </td><td>1.000000000</td><td>1.00000000 </td><td>0          </td><td>0          </td><td>⋯          </td><td>0          </td><td>1          </td><td>0          </td><td>0          </td><td>0          </td><td>0          </td><td>0.6599932  </td><td>0.90       </td><td>        NaN</td><td>NaN        </td></tr>\n",
       "\t<tr><td>0.76729957 </td><td>0.77557756 </td><td>0.95431472 </td><td>1.00000000 </td><td>0.579617834</td><td>0.85263158 </td><td>0.631067961</td><td>0.05263158 </td><td>0          </td><td>1          </td><td>⋯          </td><td>0          </td><td>1          </td><td>0          </td><td>0          </td><td>0          </td><td>0          </td><td>      NaN  </td><td>0.10       </td><td>0.009239036</td><td>NaN        </td></tr>\n",
       "\t<tr><td>0.49272506 </td><td>0.49834983 </td><td>0.67005076 </td><td>0.62790698 </td><td>0.350318471</td><td>0.55789474 </td><td>0.425242718</td><td>0.00000000 </td><td>0          </td><td>1          </td><td>⋯          </td><td>0          </td><td>0          </td><td>0          </td><td>0          </td><td>0          </td><td>0          </td><td>      NaN  </td><td>0.98       </td><td>0.089034164</td><td>NaN        </td></tr>\n",
       "\t<tr><td>0.17204841 </td><td>0.27359736 </td><td>0.03045685 </td><td>0.13953488 </td><td>0.267515924</td><td>0.14526316 </td><td>0.016262136</td><td>0.94736842 </td><td>0          </td><td>0          </td><td>⋯          </td><td>0          </td><td>0          </td><td>0          </td><td>0          </td><td>0          </td><td>1          </td><td>      NaN  </td><td> NaN       </td><td>0.010129454</td><td>NaN        </td></tr>\n",
       "\t<tr><td>0.17651166 </td><td>0.15709571 </td><td>0.13197970 </td><td>0.10465116 </td><td>0.133757962</td><td>0.19368421 </td><td>0.156310680</td><td>0.10526316 </td><td>1          </td><td>1          </td><td>⋯          </td><td>1          </td><td>1          </td><td>0          </td><td>0          </td><td>0          </td><td>0          </td><td>      NaN  </td><td> NaN       </td><td>0.986301266</td><td>NaN        </td></tr>\n",
       "</tbody>\n",
       "</table>\n"
      ],
      "text/latex": [
       "\\begin{tabular}{llllllllllllllllllllllllllllllllllllllllllllllllllllllllllllllllllllllllllllllllllllllllllllllllllllllllllllllllllllllllllllllllllllllllllllllllllllllllllllllllllllllllllllllllllllllllllllllllllllllllllllllllllllllllllllllllllllllllllllllllllllllllllllllllllllllllllllllllllllllllllllllllllllllllllllllllllllllllllllllllllllllllllllllllllllllllllllllllllllllllllllllllllllllllllllllllllllllllllllllllllllllllllllllllllllllllllllllllllllllllllllllllllllllllllllllllllllllllllllllllllllllllllllllllllllllllllllllllllllllllllllllllllllllllllllllllllllllllllllllllllllllllllllllllllllllllllllllllllllllllllllllllllllllllllllllllllllllllllllllllllllllllllllllllllllllllllllllllllllllllllllllllllllllllllllllllllllllllllllllllllllllllllllllllllllllllllllllllllllllllllllllllllllllllllllllllllllllllllllllllllllllllllllllllllllllllllllllllllllllllllllllllllllllllllllllllllllllllllllllllllllllllllllllllllllllllllllllllllllllllllllllllllllllllllllllllllllllllllllllllllllllllllllllllllllllllllllllllllllllllllllllllllllllllllllllllllllllllllll}\n",
       " X2 & X3 & X4 & X5 & X6 & X7 & X8 & X9 & X11 & X12 & ⋯ & X1029 & X1030 & X1031 & X1032 & X1033 & X1034 & Bioavailability & Blood Protein Binding & Half Life & Volume of Distribution\\\\\n",
       "\\hline\n",
       "\t 0.03623487  & 0.01475248  & 0.00000000  & 0.02325581  & 0.006369427 & 0.03368421  & 0.017475728 & 0.05263158  & 0           & 0           & ⋯           & 0           & 0           & 0           & 0           & 0           & 0           &       NaN   &  NaN        & 0.008896568 & NaN        \\\\\n",
       "\t 0.02647938  & 0.02947195  & 0.02538071  & 0.04651163  & 0.038216561 & 0.02526316  & 0.008058252 & 0.05263158  & 0           & 1           & ⋯           & 0           & 0           & 0           & 0           & 0           & 0           &       NaN   &  NaN        & 0.054787328 & NaN        \\\\\n",
       "\t 0.07210810  & 0.03366337  & 0.03553299  & 0.00000000  & 0.038216561 & 0.07157895  & 0.035679612 & 0.10526316  & 0           & 0           & ⋯           & 0           & 1           & 0           & 0           & 0           & 0           &       NaN   &  NaN        & 0.136979734 & NaN        \\\\\n",
       "\t 0.03402139  & 0.02399340  & 0.02538071  & 0.05813953  & 0.025477707 & 0.03578947  & 0.011019417 & 0.05263158  & 0           & 1           & ⋯           & 0           & 0           & 0           & 0           & 0           & 0           &       NaN   &  NaN        & 0.024992581 & NaN        \\\\\n",
       "\t 0.05366685  & 0.02765677  & 0.08629442  & 0.02325581  & 0.031847134 & 0.06105263  & 0.024951456 & 0.00000000  & 0           & 1           & ⋯           & 0           & 1           & 0           & 0           & 0           & 0           &       NaN   &  NaN        & 0.001590348 & NaN        \\\\\n",
       "\t 1.00000000  & 1.00000000  & 0.79187817  & 0.30232558  & 1.000000000 & 1.00000000  & 1.000000000 & 1.00000000  & 0           & 0           & ⋯           & 0           & 1           & 0           & 0           & 0           & 0           & 0.6599932   & 0.90        &         NaN & NaN        \\\\\n",
       "\t 0.76729957  & 0.77557756  & 0.95431472  & 1.00000000  & 0.579617834 & 0.85263158  & 0.631067961 & 0.05263158  & 0           & 1           & ⋯           & 0           & 1           & 0           & 0           & 0           & 0           &       NaN   & 0.10        & 0.009239036 & NaN        \\\\\n",
       "\t 0.49272506  & 0.49834983  & 0.67005076  & 0.62790698  & 0.350318471 & 0.55789474  & 0.425242718 & 0.00000000  & 0           & 1           & ⋯           & 0           & 0           & 0           & 0           & 0           & 0           &       NaN   & 0.98        & 0.089034164 & NaN        \\\\\n",
       "\t 0.17204841  & 0.27359736  & 0.03045685  & 0.13953488  & 0.267515924 & 0.14526316  & 0.016262136 & 0.94736842  & 0           & 0           & ⋯           & 0           & 0           & 0           & 0           & 0           & 1           &       NaN   &  NaN        & 0.010129454 & NaN        \\\\\n",
       "\t 0.17651166  & 0.15709571  & 0.13197970  & 0.10465116  & 0.133757962 & 0.19368421  & 0.156310680 & 0.10526316  & 1           & 1           & ⋯           & 1           & 1           & 0           & 0           & 0           & 0           &       NaN   &  NaN        & 0.986301266 & NaN        \\\\\n",
       "\\end{tabular}\n"
      ],
      "text/markdown": [
       "\n",
       "X2 | X3 | X4 | X5 | X6 | X7 | X8 | X9 | X11 | X12 | ⋯ | X1029 | X1030 | X1031 | X1032 | X1033 | X1034 | Bioavailability | Blood Protein Binding | Half Life | Volume of Distribution | \n",
       "|---|---|---|---|---|---|---|---|---|---|\n",
       "| 0.03623487  | 0.01475248  | 0.00000000  | 0.02325581  | 0.006369427 | 0.03368421  | 0.017475728 | 0.05263158  | 0           | 0           | ⋯           | 0           | 0           | 0           | 0           | 0           | 0           |       NaN   |  NaN        | 0.008896568 | NaN         | \n",
       "| 0.02647938  | 0.02947195  | 0.02538071  | 0.04651163  | 0.038216561 | 0.02526316  | 0.008058252 | 0.05263158  | 0           | 1           | ⋯           | 0           | 0           | 0           | 0           | 0           | 0           |       NaN   |  NaN        | 0.054787328 | NaN         | \n",
       "| 0.07210810  | 0.03366337  | 0.03553299  | 0.00000000  | 0.038216561 | 0.07157895  | 0.035679612 | 0.10526316  | 0           | 0           | ⋯           | 0           | 1           | 0           | 0           | 0           | 0           |       NaN   |  NaN        | 0.136979734 | NaN         | \n",
       "| 0.03402139  | 0.02399340  | 0.02538071  | 0.05813953  | 0.025477707 | 0.03578947  | 0.011019417 | 0.05263158  | 0           | 1           | ⋯           | 0           | 0           | 0           | 0           | 0           | 0           |       NaN   |  NaN        | 0.024992581 | NaN         | \n",
       "| 0.05366685  | 0.02765677  | 0.08629442  | 0.02325581  | 0.031847134 | 0.06105263  | 0.024951456 | 0.00000000  | 0           | 1           | ⋯           | 0           | 1           | 0           | 0           | 0           | 0           |       NaN   |  NaN        | 0.001590348 | NaN         | \n",
       "| 1.00000000  | 1.00000000  | 0.79187817  | 0.30232558  | 1.000000000 | 1.00000000  | 1.000000000 | 1.00000000  | 0           | 0           | ⋯           | 0           | 1           | 0           | 0           | 0           | 0           | 0.6599932   | 0.90        |         NaN | NaN         | \n",
       "| 0.76729957  | 0.77557756  | 0.95431472  | 1.00000000  | 0.579617834 | 0.85263158  | 0.631067961 | 0.05263158  | 0           | 1           | ⋯           | 0           | 1           | 0           | 0           | 0           | 0           |       NaN   | 0.10        | 0.009239036 | NaN         | \n",
       "| 0.49272506  | 0.49834983  | 0.67005076  | 0.62790698  | 0.350318471 | 0.55789474  | 0.425242718 | 0.00000000  | 0           | 1           | ⋯           | 0           | 0           | 0           | 0           | 0           | 0           |       NaN   | 0.98        | 0.089034164 | NaN         | \n",
       "| 0.17204841  | 0.27359736  | 0.03045685  | 0.13953488  | 0.267515924 | 0.14526316  | 0.016262136 | 0.94736842  | 0           | 0           | ⋯           | 0           | 0           | 0           | 0           | 0           | 1           |       NaN   |  NaN        | 0.010129454 | NaN         | \n",
       "| 0.17651166  | 0.15709571  | 0.13197970  | 0.10465116  | 0.133757962 | 0.19368421  | 0.156310680 | 0.10526316  | 1           | 1           | ⋯           | 1           | 1           | 0           | 0           | 0           | 0           |       NaN   |  NaN        | 0.986301266 | NaN         | \n",
       "\n",
       "\n"
      ],
      "text/plain": [
       "      X2         X3         X4         X5         X6          X7        \n",
       " [1,] 0.03623487 0.01475248 0.00000000 0.02325581 0.006369427 0.03368421\n",
       " [2,] 0.02647938 0.02947195 0.02538071 0.04651163 0.038216561 0.02526316\n",
       " [3,] 0.07210810 0.03366337 0.03553299 0.00000000 0.038216561 0.07157895\n",
       " [4,] 0.03402139 0.02399340 0.02538071 0.05813953 0.025477707 0.03578947\n",
       " [5,] 0.05366685 0.02765677 0.08629442 0.02325581 0.031847134 0.06105263\n",
       " [6,] 1.00000000 1.00000000 0.79187817 0.30232558 1.000000000 1.00000000\n",
       " [7,] 0.76729957 0.77557756 0.95431472 1.00000000 0.579617834 0.85263158\n",
       " [8,] 0.49272506 0.49834983 0.67005076 0.62790698 0.350318471 0.55789474\n",
       " [9,] 0.17204841 0.27359736 0.03045685 0.13953488 0.267515924 0.14526316\n",
       "[10,] 0.17651166 0.15709571 0.13197970 0.10465116 0.133757962 0.19368421\n",
       "      X8          X9         X11 X12 ⋯ X1029 X1030 X1031 X1032 X1033 X1034\n",
       " [1,] 0.017475728 0.05263158 0   0   ⋯ 0     0     0     0     0     0    \n",
       " [2,] 0.008058252 0.05263158 0   1   ⋯ 0     0     0     0     0     0    \n",
       " [3,] 0.035679612 0.10526316 0   0   ⋯ 0     1     0     0     0     0    \n",
       " [4,] 0.011019417 0.05263158 0   1   ⋯ 0     0     0     0     0     0    \n",
       " [5,] 0.024951456 0.00000000 0   1   ⋯ 0     1     0     0     0     0    \n",
       " [6,] 1.000000000 1.00000000 0   0   ⋯ 0     1     0     0     0     0    \n",
       " [7,] 0.631067961 0.05263158 0   1   ⋯ 0     1     0     0     0     0    \n",
       " [8,] 0.425242718 0.00000000 0   1   ⋯ 0     0     0     0     0     0    \n",
       " [9,] 0.016262136 0.94736842 0   0   ⋯ 0     0     0     0     0     1    \n",
       "[10,] 0.156310680 0.10526316 1   1   ⋯ 1     1     0     0     0     0    \n",
       "      Bioavailability Blood Protein Binding Half Life   Volume of Distribution\n",
       " [1,]       NaN        NaN                  0.008896568 NaN                   \n",
       " [2,]       NaN        NaN                  0.054787328 NaN                   \n",
       " [3,]       NaN        NaN                  0.136979734 NaN                   \n",
       " [4,]       NaN        NaN                  0.024992581 NaN                   \n",
       " [5,]       NaN        NaN                  0.001590348 NaN                   \n",
       " [6,] 0.6599932       0.90                          NaN NaN                   \n",
       " [7,]       NaN       0.10                  0.009239036 NaN                   \n",
       " [8,]       NaN       0.98                  0.089034164 NaN                   \n",
       " [9,]       NaN        NaN                  0.010129454 NaN                   \n",
       "[10,]       NaN        NaN                  0.986301266 NaN                   "
      ]
     },
     "metadata": {},
     "output_type": "display_data"
    }
   ],
   "source": [
    "validationPFy[1:10,]"
   ]
  },
  {
   "cell_type": "markdown",
   "metadata": {},
   "source": [
    "### MD-FIS of testing set"
   ]
  },
  {
   "cell_type": "code",
   "execution_count": 111,
   "metadata": {
    "collapsed": true
   },
   "outputs": [],
   "source": [
    "allIndexes <- NULL\n",
    "allsumdiss <- NULL\n",
    "\n",
    "################################### Testing Set ##############################################\n",
    "## Generate 10000 intial data set and get best one\n",
    "for (i in 1:10000) {\n",
    "  ## A random sample of 5 data points\n",
    "  set.seed(i)\n",
    "  initalIndexes <- sample(numbers, 5)\n",
    "\n",
    "  TrainningSet <- RemainSetForTestingSelection[-initalIndexes, ]\n",
    "  initalTestSet <- RemainSetForTestingSelection[initalIndexes, ]\n",
    "\n",
    "  allIndexes <- rbind(allIndexes, initalIndexes)\n",
    "\n",
    "  diss <- proxy::dist(initalTestSet, TrainningSet)\n",
    "  sumdiss <- sum(diss, na.rm = TRUE)\n",
    "  allsumdiss <- c(allsumdiss, sumdiss)\n",
    "  #initalIndexes <- c(14, 30, 46, 54, 91)\n",
    "  #initalIndexes <- c(5,50,78,99,117)\n",
    "  #initalIndexes <- c(18,64,65,66,84)\n",
    "  #initalIndexes <- c(18,64,65,66,74,83,84)\n",
    "\n",
    "}\n",
    "\n",
    "bestInitalIndex <- allIndexes[which.min(allsumdiss), ]\n",
    "bestDistance <- min(allsumdiss)\n",
    "\n",
    "#Begin compute remaining testset\n",
    "RemainingSetV <- RemainSetForTestingSelection[-bestInitalIndex, ]\n",
    "initalSetV <- RemainSetForTestingSelection[bestInitalIndex, ]\n",
    "\n",
    "###for PFy\n",
    "RemainingPFy <- RemainSetForTestingSelectionPFy[-bestInitalIndex, ]\n",
    "initalPFy <- RemainSetForTestingSelectionPFy[bestInitalIndex, ]\n",
    "\n",
    "## MD-FIS\n",
    "validaIndex <- MDFIS(initalSetV, RemainingSetV, n = (testNum - 5), obj = minDiss, alpha = 3, isAPIgroup = isAPIgroupTestingSet)\n",
    "SelectedSetV <- RemainingSetV[validaIndex, ]\n",
    "TestingSet <- rbind(initalSetV, SelectedSetV)\n",
    "TrainingSet <- RemainingSetV[-validaIndex, ]\n",
    "\n",
    "###for PFy\n",
    "SelectedPFy <- RemainingPFy[validaIndex, ]\n",
    "TestingSetPFy <- rbind(initalPFy, SelectedPFy)\n",
    "TrainingSetPFy <- RemainingPFy[-validaIndex, ]"
   ]
  },
  {
   "cell_type": "code",
   "execution_count": 112,
   "metadata": {},
   "outputs": [
    {
     "data": {
      "text/html": [
       "<table>\n",
       "<thead><tr><th scope=col>X2</th><th scope=col>X3</th><th scope=col>X4</th><th scope=col>X5</th><th scope=col>X6</th><th scope=col>X7</th><th scope=col>X8</th><th scope=col>X9</th><th scope=col>X11</th><th scope=col>X12</th><th scope=col>⋯</th><th scope=col>X1029</th><th scope=col>X1030</th><th scope=col>X1031</th><th scope=col>X1032</th><th scope=col>X1033</th><th scope=col>X1034</th><th scope=col>Bioavailability</th><th scope=col>Blood Protein Binding</th><th scope=col>Half Life</th><th scope=col>Volume of Distribution</th></tr></thead>\n",
       "<tbody>\n",
       "\t<tr><td>0.02378549  </td><td>0.019438944 </td><td>0.025380711 </td><td>0.02325581  </td><td>0.02547771  </td><td>0.02736842  </td><td>0.007330097 </td><td>0.00000000  </td><td>0           </td><td>1           </td><td>⋯           </td><td>0           </td><td>0           </td><td>0           </td><td>0           </td><td>0           </td><td>0           </td><td>     NaN    </td><td>NaN         </td><td>0.0068417575</td><td>        NaN </td></tr>\n",
       "\t<tr><td>0.04718479  </td><td>0.026732673 </td><td>0.015228426 </td><td>0.03488372  </td><td>0.03184713  </td><td>0.05473684  </td><td>0.022961165 </td><td>0.05263158  </td><td>0           </td><td>1           </td><td>⋯           </td><td>0           </td><td>1           </td><td>0           </td><td>0           </td><td>1           </td><td>0           </td><td>     NaN    </td><td>NaN         </td><td>0.0171158083</td><td>        NaN </td></tr>\n",
       "\t<tr><td>0.03983891  </td><td>0.014488449 </td><td>0.005076142 </td><td>0.00000000  </td><td>0.02547771  </td><td>0.04210526  </td><td>0.023446602 </td><td>0.05263158  </td><td>0           </td><td>1           </td><td>⋯           </td><td>0           </td><td>0           </td><td>0           </td><td>0           </td><td>0           </td><td>0           </td><td>     NaN    </td><td>NaN         </td><td>0.0393762517</td><td>        NaN </td></tr>\n",
       "\t<tr><td>0.03344476  </td><td>0.004125413 </td><td>0.005076142 </td><td>0.00000000  </td><td>0.01273885  </td><td>0.04000000  </td><td>0.017961165 </td><td>0.00000000  </td><td>0           </td><td>0           </td><td>⋯           </td><td>0           </td><td>1           </td><td>0           </td><td>0           </td><td>0           </td><td>0           </td><td>     NaN    </td><td>NaN         </td><td>0.0308145427</td><td>        NaN </td></tr>\n",
       "\t<tr><td>0.04704542  </td><td>0.029636964 </td><td>0.050761421 </td><td>0.02325581  </td><td>0.03184713  </td><td>0.05263158  </td><td>0.023834951 </td><td>0.05263158  </td><td>0           </td><td>1           </td><td>⋯           </td><td>0           </td><td>1           </td><td>0           </td><td>0           </td><td>0           </td><td>0           </td><td>     NaN    </td><td>NaN         </td><td>0.0006773271</td><td>0.009448963 </td></tr>\n",
       "\t<tr><td>0.76611067  </td><td>0.808580858 </td><td>0.913705584 </td><td>0.90697674  </td><td>0.57324841  </td><td>0.85263158  </td><td>0.708737864 </td><td>0.00000000  </td><td>0           </td><td>1           </td><td>⋯           </td><td>0           </td><td>1           </td><td>0           </td><td>0           </td><td>0           </td><td>0           </td><td>     NaN    </td><td>NaN         </td><td>         NaN</td><td>0.005157687 </td></tr>\n",
       "\t<tr><td>0.17545540  </td><td>0.149504950 </td><td>0.081218274 </td><td>0.11627907  </td><td>0.12738854  </td><td>0.19157895  </td><td>0.152912621 </td><td>0.10526316  </td><td>0           </td><td>1           </td><td>⋯           </td><td>1           </td><td>1           </td><td>0           </td><td>0           </td><td>0           </td><td>0           </td><td>     NaN    </td><td>0.9         </td><td>0.9863012656</td><td>        NaN </td></tr>\n",
       "\t<tr><td>0.49284002  </td><td>0.544554455 </td><td>0.639593909 </td><td>0.63953488  </td><td>0.38216561  </td><td>0.55368421  </td><td>0.438349515 </td><td>0.00000000  </td><td>1           </td><td>1           </td><td>⋯           </td><td>0           </td><td>0           </td><td>0           </td><td>0           </td><td>0           </td><td>0           </td><td>     NaN    </td><td>NaN         </td><td>0.0136911247</td><td>0.001681854 </td></tr>\n",
       "\t<tr><td>0.22856859  </td><td>0.247194719 </td><td>0.197969543 </td><td>0.20930233  </td><td>0.21019108  </td><td>0.23368421  </td><td>0.166504854 </td><td>0.26315789  </td><td>0           </td><td>1           </td><td>⋯           </td><td>0           </td><td>1           </td><td>0           </td><td>0           </td><td>0           </td><td>0           </td><td>     NaN    </td><td>NaN         </td><td>0.0171158083</td><td>        NaN </td></tr>\n",
       "\t<tr><td>0.05484783  </td><td>0.024092409 </td><td>0.035532995 </td><td>0.01162791  </td><td>0.03184713  </td><td>0.06315789  </td><td>0.030873786 </td><td>0.00000000  </td><td>0           </td><td>0           </td><td>⋯           </td><td>0           </td><td>0           </td><td>0           </td><td>0           </td><td>0           </td><td>0           </td><td>0.949999    </td><td>NaN         </td><td>0.6232848046</td><td>0.046235704 </td></tr>\n",
       "</tbody>\n",
       "</table>\n"
      ],
      "text/latex": [
       "\\begin{tabular}{llllllllllllllllllllllllllllllllllllllllllllllllllllllllllllllllllllllllllllllllllllllllllllllllllllllllllllllllllllllllllllllllllllllllllllllllllllllllllllllllllllllllllllllllllllllllllllllllllllllllllllllllllllllllllllllllllllllllllllllllllllllllllllllllllllllllllllllllllllllllllllllllllllllllllllllllllllllllllllllllllllllllllllllllllllllllllllllllllllllllllllllllllllllllllllllllllllllllllllllllllllllllllllllllllllllllllllllllllllllllllllllllllllllllllllllllllllllllllllllllllllllllllllllllllllllllllllllllllllllllllllllllllllllllllllllllllllllllllllllllllllllllllllllllllllllllllllllllllllllllllllllllllllllllllllllllllllllllllllllllllllllllllllllllllllllllllllllllllllllllllllllllllllllllllllllllllllllllllllllllllllllllllllllllllllllllllllllllllllllllllllllllllllllllllllllllllllllllllllllllllllllllllllllllllllllllllllllllllllllllllllllllllllllllllllllllllllllllllllllllllllllllllllllllllllllllllllllllllllllllllllllllllllllllllllllllllllllllllllllllllllllllllllllllllllllllllllllllllllllllllllllllllllllllllllllllllllllllllll}\n",
       " X2 & X3 & X4 & X5 & X6 & X7 & X8 & X9 & X11 & X12 & ⋯ & X1029 & X1030 & X1031 & X1032 & X1033 & X1034 & Bioavailability & Blood Protein Binding & Half Life & Volume of Distribution\\\\\n",
       "\\hline\n",
       "\t 0.02378549   & 0.019438944  & 0.025380711  & 0.02325581   & 0.02547771   & 0.02736842   & 0.007330097  & 0.00000000   & 0            & 1            & ⋯            & 0            & 0            & 0            & 0            & 0            & 0            &      NaN     & NaN          & 0.0068417575 &         NaN \\\\\n",
       "\t 0.04718479   & 0.026732673  & 0.015228426  & 0.03488372   & 0.03184713   & 0.05473684   & 0.022961165  & 0.05263158   & 0            & 1            & ⋯            & 0            & 1            & 0            & 0            & 1            & 0            &      NaN     & NaN          & 0.0171158083 &         NaN \\\\\n",
       "\t 0.03983891   & 0.014488449  & 0.005076142  & 0.00000000   & 0.02547771   & 0.04210526   & 0.023446602  & 0.05263158   & 0            & 1            & ⋯            & 0            & 0            & 0            & 0            & 0            & 0            &      NaN     & NaN          & 0.0393762517 &         NaN \\\\\n",
       "\t 0.03344476   & 0.004125413  & 0.005076142  & 0.00000000   & 0.01273885   & 0.04000000   & 0.017961165  & 0.00000000   & 0            & 0            & ⋯            & 0            & 1            & 0            & 0            & 0            & 0            &      NaN     & NaN          & 0.0308145427 &         NaN \\\\\n",
       "\t 0.04704542   & 0.029636964  & 0.050761421  & 0.02325581   & 0.03184713   & 0.05263158   & 0.023834951  & 0.05263158   & 0            & 1            & ⋯            & 0            & 1            & 0            & 0            & 0            & 0            &      NaN     & NaN          & 0.0006773271 & 0.009448963 \\\\\n",
       "\t 0.76611067   & 0.808580858  & 0.913705584  & 0.90697674   & 0.57324841   & 0.85263158   & 0.708737864  & 0.00000000   & 0            & 1            & ⋯            & 0            & 1            & 0            & 0            & 0            & 0            &      NaN     & NaN          &          NaN & 0.005157687 \\\\\n",
       "\t 0.17545540   & 0.149504950  & 0.081218274  & 0.11627907   & 0.12738854   & 0.19157895   & 0.152912621  & 0.10526316   & 0            & 1            & ⋯            & 1            & 1            & 0            & 0            & 0            & 0            &      NaN     & 0.9          & 0.9863012656 &         NaN \\\\\n",
       "\t 0.49284002   & 0.544554455  & 0.639593909  & 0.63953488   & 0.38216561   & 0.55368421   & 0.438349515  & 0.00000000   & 1            & 1            & ⋯            & 0            & 0            & 0            & 0            & 0            & 0            &      NaN     & NaN          & 0.0136911247 & 0.001681854 \\\\\n",
       "\t 0.22856859   & 0.247194719  & 0.197969543  & 0.20930233   & 0.21019108   & 0.23368421   & 0.166504854  & 0.26315789   & 0            & 1            & ⋯            & 0            & 1            & 0            & 0            & 0            & 0            &      NaN     & NaN          & 0.0171158083 &         NaN \\\\\n",
       "\t 0.05484783   & 0.024092409  & 0.035532995  & 0.01162791   & 0.03184713   & 0.06315789   & 0.030873786  & 0.00000000   & 0            & 0            & ⋯            & 0            & 0            & 0            & 0            & 0            & 0            & 0.949999     & NaN          & 0.6232848046 & 0.046235704 \\\\\n",
       "\\end{tabular}\n"
      ],
      "text/markdown": [
       "\n",
       "X2 | X3 | X4 | X5 | X6 | X7 | X8 | X9 | X11 | X12 | ⋯ | X1029 | X1030 | X1031 | X1032 | X1033 | X1034 | Bioavailability | Blood Protein Binding | Half Life | Volume of Distribution | \n",
       "|---|---|---|---|---|---|---|---|---|---|\n",
       "| 0.02378549   | 0.019438944  | 0.025380711  | 0.02325581   | 0.02547771   | 0.02736842   | 0.007330097  | 0.00000000   | 0            | 1            | ⋯            | 0            | 0            | 0            | 0            | 0            | 0            |      NaN     | NaN          | 0.0068417575 |         NaN  | \n",
       "| 0.04718479   | 0.026732673  | 0.015228426  | 0.03488372   | 0.03184713   | 0.05473684   | 0.022961165  | 0.05263158   | 0            | 1            | ⋯            | 0            | 1            | 0            | 0            | 1            | 0            |      NaN     | NaN          | 0.0171158083 |         NaN  | \n",
       "| 0.03983891   | 0.014488449  | 0.005076142  | 0.00000000   | 0.02547771   | 0.04210526   | 0.023446602  | 0.05263158   | 0            | 1            | ⋯            | 0            | 0            | 0            | 0            | 0            | 0            |      NaN     | NaN          | 0.0393762517 |         NaN  | \n",
       "| 0.03344476   | 0.004125413  | 0.005076142  | 0.00000000   | 0.01273885   | 0.04000000   | 0.017961165  | 0.00000000   | 0            | 0            | ⋯            | 0            | 1            | 0            | 0            | 0            | 0            |      NaN     | NaN          | 0.0308145427 |         NaN  | \n",
       "| 0.04704542   | 0.029636964  | 0.050761421  | 0.02325581   | 0.03184713   | 0.05263158   | 0.023834951  | 0.05263158   | 0            | 1            | ⋯            | 0            | 1            | 0            | 0            | 0            | 0            |      NaN     | NaN          | 0.0006773271 | 0.009448963  | \n",
       "| 0.76611067   | 0.808580858  | 0.913705584  | 0.90697674   | 0.57324841   | 0.85263158   | 0.708737864  | 0.00000000   | 0            | 1            | ⋯            | 0            | 1            | 0            | 0            | 0            | 0            |      NaN     | NaN          |          NaN | 0.005157687  | \n",
       "| 0.17545540   | 0.149504950  | 0.081218274  | 0.11627907   | 0.12738854   | 0.19157895   | 0.152912621  | 0.10526316   | 0            | 1            | ⋯            | 1            | 1            | 0            | 0            | 0            | 0            |      NaN     | 0.9          | 0.9863012656 |         NaN  | \n",
       "| 0.49284002   | 0.544554455  | 0.639593909  | 0.63953488   | 0.38216561   | 0.55368421   | 0.438349515  | 0.00000000   | 1            | 1            | ⋯            | 0            | 0            | 0            | 0            | 0            | 0            |      NaN     | NaN          | 0.0136911247 | 0.001681854  | \n",
       "| 0.22856859   | 0.247194719  | 0.197969543  | 0.20930233   | 0.21019108   | 0.23368421   | 0.166504854  | 0.26315789   | 0            | 1            | ⋯            | 0            | 1            | 0            | 0            | 0            | 0            |      NaN     | NaN          | 0.0171158083 |         NaN  | \n",
       "| 0.05484783   | 0.024092409  | 0.035532995  | 0.01162791   | 0.03184713   | 0.06315789   | 0.030873786  | 0.00000000   | 0            | 0            | ⋯            | 0            | 0            | 0            | 0            | 0            | 0            | 0.949999     | NaN          | 0.6232848046 | 0.046235704  | \n",
       "\n",
       "\n"
      ],
      "text/plain": [
       "      X2         X3          X4          X5         X6         X7        \n",
       " [1,] 0.02378549 0.019438944 0.025380711 0.02325581 0.02547771 0.02736842\n",
       " [2,] 0.04718479 0.026732673 0.015228426 0.03488372 0.03184713 0.05473684\n",
       " [3,] 0.03983891 0.014488449 0.005076142 0.00000000 0.02547771 0.04210526\n",
       " [4,] 0.03344476 0.004125413 0.005076142 0.00000000 0.01273885 0.04000000\n",
       " [5,] 0.04704542 0.029636964 0.050761421 0.02325581 0.03184713 0.05263158\n",
       " [6,] 0.76611067 0.808580858 0.913705584 0.90697674 0.57324841 0.85263158\n",
       " [7,] 0.17545540 0.149504950 0.081218274 0.11627907 0.12738854 0.19157895\n",
       " [8,] 0.49284002 0.544554455 0.639593909 0.63953488 0.38216561 0.55368421\n",
       " [9,] 0.22856859 0.247194719 0.197969543 0.20930233 0.21019108 0.23368421\n",
       "[10,] 0.05484783 0.024092409 0.035532995 0.01162791 0.03184713 0.06315789\n",
       "      X8          X9         X11 X12 ⋯ X1029 X1030 X1031 X1032 X1033 X1034\n",
       " [1,] 0.007330097 0.00000000 0   1   ⋯ 0     0     0     0     0     0    \n",
       " [2,] 0.022961165 0.05263158 0   1   ⋯ 0     1     0     0     1     0    \n",
       " [3,] 0.023446602 0.05263158 0   1   ⋯ 0     0     0     0     0     0    \n",
       " [4,] 0.017961165 0.00000000 0   0   ⋯ 0     1     0     0     0     0    \n",
       " [5,] 0.023834951 0.05263158 0   1   ⋯ 0     1     0     0     0     0    \n",
       " [6,] 0.708737864 0.00000000 0   1   ⋯ 0     1     0     0     0     0    \n",
       " [7,] 0.152912621 0.10526316 0   1   ⋯ 1     1     0     0     0     0    \n",
       " [8,] 0.438349515 0.00000000 1   1   ⋯ 0     0     0     0     0     0    \n",
       " [9,] 0.166504854 0.26315789 0   1   ⋯ 0     1     0     0     0     0    \n",
       "[10,] 0.030873786 0.00000000 0   0   ⋯ 0     0     0     0     0     0    \n",
       "      Bioavailability Blood Protein Binding Half Life    Volume of Distribution\n",
       " [1,]      NaN        NaN                   0.0068417575         NaN           \n",
       " [2,]      NaN        NaN                   0.0171158083         NaN           \n",
       " [3,]      NaN        NaN                   0.0393762517         NaN           \n",
       " [4,]      NaN        NaN                   0.0308145427         NaN           \n",
       " [5,]      NaN        NaN                   0.0006773271 0.009448963           \n",
       " [6,]      NaN        NaN                            NaN 0.005157687           \n",
       " [7,]      NaN        0.9                   0.9863012656         NaN           \n",
       " [8,]      NaN        NaN                   0.0136911247 0.001681854           \n",
       " [9,]      NaN        NaN                   0.0171158083         NaN           \n",
       "[10,] 0.949999        NaN                   0.6232848046 0.046235704           "
      ]
     },
     "metadata": {},
     "output_type": "display_data"
    }
   ],
   "source": [
    "TestingSetPFy[1:10, ]"
   ]
  },
  {
   "cell_type": "markdown",
   "metadata": {},
   "source": [
    "### Save three datasets into files"
   ]
  },
  {
   "cell_type": "code",
   "execution_count": 113,
   "metadata": {
    "collapsed": true
   },
   "outputs": [],
   "source": [
    "write.csv(TrainingSetPFy, na = \"NaN\", paste(fileNamewithOut, \"trainingset.csv\", sep = \"/\"), row.names = FALSE)\n",
    "write.csv(validationPFy, na = \"NaN\", paste(fileNamewithOut, \"testingset.csv\", sep = \"/\"), row.names = FALSE)\n",
    "write.csv(TestingSetPFy, na = \"NaN\", paste(fileNamewithOut, \"validationset.csv\", sep = \"/\"), row.names = FALSE)"
   ]
  },
  {
   "cell_type": "markdown",
   "metadata": {},
   "source": [
    "### Histogram of Bioavailibility"
   ]
  },
  {
   "cell_type": "code",
   "execution_count": 114,
   "metadata": {},
   "outputs": [
    {
     "data": {
      "image/png": "[encoded data removed]",
      "text/plain": [
       "Plot with title “Histogram of Bioavailbility”"
      ]
     },
     "metadata": {},
     "output_type": "display_data"
    }
   ],
   "source": [
    "bins <- seq(0,1,0.1)\n",
    "\n",
    "BioTrain <- TrainingSetPFy[, 1033]\n",
    "BioTrain <- BioTrain[complete.cases(BioTrain)]\n",
    "BioTrainlen <- length(BioTrain)\n",
    "BioTrainHIS <- hist(BioTrain, breaks = bins, plot = FALSE)\n",
    "BioTrainHIS <- BioTrainHIS$counts\n",
    "\n",
    "BioDev <- validationPFy[, 1033]\n",
    "BioDev <- BioDev[complete.cases(BioDev)]\n",
    "BioDevlen <- length(BioDev)\n",
    "BioDevHIS <- hist(BioDev, breaks = bins, plot = FALSE)\n",
    "BioDevHIS <- BioDevHIS$counts\n",
    "\n",
    "BioTest <- TestingSetPFy[, 1033]\n",
    "BioTest <- BioTest[complete.cases(BioTest)]\n",
    "BioTestlen <- length(BioTest)\n",
    "BioTestHIS <- hist(BioTest, breaks = bins, plot = FALSE)\n",
    "BioTestHIS <- BioTestHIS$counts\n",
    "  \n",
    "BioHIS <- rbind(BioTrainHIS, BioDevHIS, BioTestHIS)\n",
    "colnames(BioHIS) <- bins[2:11]\n",
    "par(pin=c(6,3))\n",
    "barplot(BioHIS, beside = TRUE, xlab=\"Bioavailbitiy\", ylab=\"Number\", main= \"Histogram of Bioavailbility\", legend=rownames(BioHIS))"
   ]
  },
  {
   "cell_type": "markdown",
   "metadata": {},
   "source": [
    "### Histogram of Bioavailibility (%)"
   ]
  },
  {
   "cell_type": "code",
   "execution_count": 115,
   "metadata": {},
   "outputs": [
    {
     "data": {
      "image/png": "[encoded data removed]",
      "text/plain": [
       "Plot with title “Histogram of Bioavailbility”"
      ]
     },
     "metadata": {},
     "output_type": "display_data"
    }
   ],
   "source": [
    "BioPrencentageHIS <- BioHIS\n",
    "BioPrencentageHIS[1,] <- BioHIS[1,]/BioTrainlen*100\n",
    "BioPrencentageHIS[2,] <- BioHIS[2,]/BioDevlen*100\n",
    "BioPrencentageHIS[3,] <- BioHIS[3,]/BioTestlen*100\n",
    "\n",
    "par(pin=c(6,3))\n",
    "barplot(BioPrencentageHIS, beside = TRUE, xlab=\"Bioavailbitiy\", ylab=\"Presentage\", main= \"Histogram of Bioavailbility\", legend=rownames(BioHIS))\n",
    "BioPrencentageHISMax <- apply(BioPrencentageHIS, 2, max)\n",
    "BioPrencentageHISMin <- apply(BioPrencentageHIS, 2, min)\n",
    "BioPrencentageHISAE <- abs(BioPrencentageHISMax - BioPrencentageHISMin)"
   ]
  },
  {
   "cell_type": "markdown",
   "metadata": {},
   "source": [
    "### Max AE"
   ]
  },
  {
   "cell_type": "code",
   "execution_count": 116,
   "metadata": {},
   "outputs": [
    {
     "data": {
      "text/html": [
       "11.31"
      ],
      "text/latex": [
       "11.31"
      ],
      "text/markdown": [
       "11.31"
      ],
      "text/plain": [
       "[1] 11.31"
      ]
     },
     "metadata": {},
     "output_type": "display_data"
    }
   ],
   "source": [
    "round(max(BioPrencentageHISAE), 2)"
   ]
  },
  {
   "cell_type": "markdown",
   "metadata": {},
   "source": [
    "### Min AE"
   ]
  },
  {
   "cell_type": "code",
   "execution_count": 117,
   "metadata": {},
   "outputs": [
    {
     "data": {
      "text/html": [
       "1.59"
      ],
      "text/latex": [
       "1.59"
      ],
      "text/markdown": [
       "1.59"
      ],
      "text/plain": [
       "[1] 1.59"
      ]
     },
     "metadata": {},
     "output_type": "display_data"
    }
   ],
   "source": [
    "round(min(BioPrencentageHISAE), 2)"
   ]
  },
  {
   "cell_type": "markdown",
   "metadata": {},
   "source": [
    "### Mean AE"
   ]
  },
  {
   "cell_type": "code",
   "execution_count": 118,
   "metadata": {},
   "outputs": [
    {
     "data": {
      "text/html": [
       "5.52"
      ],
      "text/latex": [
       "5.52"
      ],
      "text/markdown": [
       "5.52"
      ],
      "text/plain": [
       "[1] 5.52"
      ]
     },
     "metadata": {},
     "output_type": "display_data"
    }
   ],
   "source": [
    "round(mean(BioPrencentageHISAE), 2)"
   ]
  },
  {
   "cell_type": "markdown",
   "metadata": {},
   "source": [
    "### Variance AE"
   ]
  },
  {
   "cell_type": "code",
   "execution_count": 119,
   "metadata": {},
   "outputs": [
    {
     "data": {
      "text/html": [
       "7.44"
      ],
      "text/latex": [
       "7.44"
      ],
      "text/markdown": [
       "7.44"
      ],
      "text/plain": [
       "[1] 7.44"
      ]
     },
     "metadata": {},
     "output_type": "display_data"
    }
   ],
   "source": [
    "round(var(BioPrencentageHISAE), 2)"
   ]
  },
  {
   "cell_type": "code",
   "execution_count": null,
   "metadata": {
    "collapsed": true
   },
   "outputs": [],
   "source": []
  }
 ],
 "metadata": {
  "kernelspec": {
   "display_name": "R",
   "language": "R",
   "name": "ir"
  },
  "language_info": {
   "codemirror_mode": "r",
   "file_extension": ".r",
   "mimetype": "text/x-r-source",
   "name": "R",
   "pygments_lexer": "r",
   "version": "3.4.1"
  }
 },
 "nbformat": 4,
 "nbformat_minor": 2
}
